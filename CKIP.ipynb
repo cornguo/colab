{
  "nbformat": 4,
  "nbformat_minor": 0,
  "metadata": {
    "colab": {
      "name": "CKIP.ipynb",
      "provenance": [],
      "collapsed_sections": [],
      "authorship_tag": "ABX9TyPfnKtTFpDQxF/eJl+iTqdW",
      "include_colab_link": true
    },
    "kernelspec": {
      "name": "python3",
      "display_name": "Python 3"
    }
  },
  "cells": [
    {
      "cell_type": "markdown",
      "metadata": {
        "id": "view-in-github",
        "colab_type": "text"
      },
      "source": [
        "<a href=\"https://colab.research.google.com/github/cornguo/colab/blob/main/CKIP.ipynb\" target=\"_parent\"><img src=\"https://colab.research.google.com/assets/colab-badge.svg\" alt=\"Open In Colab\"/></a>"
      ]
    },
    {
      "cell_type": "markdown",
      "metadata": {
        "id": "24dOB_0i-cq7"
      },
      "source": [
        "參考資料\n",
        "\n",
        "* https://github.com/ckiplab/ckiptagger\n",
        "* https://home.gamer.com.tw/creationDetail.php?sn=4625319\n",
        "* https://clay-atlas.com/blog/2019/09/24/python-chinese-tutorial-ckiptagger/\n",
        "\n"
      ]
    },
    {
      "cell_type": "markdown",
      "metadata": {
        "id": "3FLjps8s7sNw"
      },
      "source": [
        "安裝 CKIP tagger, tensorflow, gdown"
      ]
    },
    {
      "cell_type": "code",
      "metadata": {
        "id": "5ey61zDB7fOs"
      },
      "source": [
        "!pip3 install ckiptagger[tfgpu,gdown]"
      ],
      "execution_count": null,
      "outputs": []
    },
    {
      "cell_type": "markdown",
      "metadata": {
        "id": "_2dH4cqq8Aa4"
      },
      "source": [
        "下載斷辭模型"
      ]
    },
    {
      "cell_type": "code",
      "metadata": {
        "id": "HnQA6MOZ8CJY"
      },
      "source": [
        "# -*- coding: utf-8 -*-\n",
        "from ckiptagger import data_utils\n",
        "data_utils.download_data_gdown(\"./\")"
      ],
      "execution_count": null,
      "outputs": []
    },
    {
      "cell_type": "markdown",
      "metadata": {
        "id": "tj4CQ4fq8Inp"
      },
      "source": [
        "測試斷辭器"
      ]
    },
    {
      "cell_type": "code",
      "metadata": {
        "id": "KQk-hjCG8PEa"
      },
      "source": [
        "# -*- coding: utf-8 -*-\n",
        "from ckiptagger import WS, POS, NER\n",
        "\n",
        "text = '傅達仁今將執行安樂死，卻突然爆出自己20年前遭緯來體育台封殺，他不懂自己哪裡得罪到電視台。'\n",
        "ws = WS(\"./data\")\n",
        "pos = POS(\"./data\")\n",
        "ner = NER(\"./data\")\n",
        "\n",
        "ws_results = ws([text])\n",
        "pos_results = pos([text])\n",
        "ner_results = ner([text], pos_results)\n",
        "\n",
        "print(ws_results)\n",
        "print(pos_results)\n",
        "for name in ner_results[0]:\n",
        "    print(name)"
      ],
      "execution_count": null,
      "outputs": []
    }
  ]
}