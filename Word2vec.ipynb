{
  "nbformat": 4,
  "nbformat_minor": 0,
  "metadata": {
    "colab": {
      "name": "Word2vec",
      "provenance": [],
      "collapsed_sections": [],
      "authorship_tag": "ABX9TyN8yQ2RFaES6EfR2uCmMXG1",
      "include_colab_link": true
    },
    "kernelspec": {
      "name": "python3",
      "display_name": "Python 3"
    }
  },
  "cells": [
    {
      "cell_type": "markdown",
      "metadata": {
        "id": "view-in-github",
        "colab_type": "text"
      },
      "source": [
        "<a href=\"https://colab.research.google.com/github/cornguo/colab/blob/main/Word2vec.ipynb\" target=\"_parent\"><img src=\"https://colab.research.google.com/assets/colab-badge.svg\" alt=\"Open In Colab\"/></a>"
      ]
    },
    {
      "cell_type": "markdown",
      "metadata": {
        "id": "24dOB_0i-cq7"
      },
      "source": [
        "參考資料\n",
        "\n",
        "* https://zake7749.github.io/2016/08/28/word2vec-with-gensim/\n",
        "* https://www.facebook.com/notes/%E5%8F%B0%E7%81%A3%E8%87%AA%E7%84%B6%E8%AA%9E%E8%A8%80%E8%99%95%E7%90%86%E8%88%87%E4%BA%BA%E5%B7%A5%E6%99%BA%E6%85%A7%E4%BA%A4%E6%B5%81%E7%A4%BE/nlp%E5%8F%B0%E7%81%A3%E6%A8%A1%E5%9E%8B02word2vec-cbow-%E8%A9%9E%E5%90%91%E9%87%8F/220442036055146/\n",
        "\n"
      ]
    },
    {
      "cell_type": "markdown",
      "metadata": {
        "id": "3FLjps8s7sNw"
      },
      "source": [
        "安裝 gensim, gdown"
      ]
    },
    {
      "cell_type": "code",
      "metadata": {
        "id": "5ey61zDB7fOs",
        "outputId": "e07d320c-d1e0-447d-bb18-a5104d07d55c",
        "colab": {
          "base_uri": "https://localhost:8080/"
        }
      },
      "source": [
        "!pip3 install gensim\n",
        "!pip3 install h5py\n",
        "!pip3 install gdown"
      ],
      "execution_count": 3,
      "outputs": [
        {
          "output_type": "stream",
          "text": [
            "Requirement already satisfied: gensim in /usr/local/lib/python3.6/dist-packages (3.6.0)\n",
            "Requirement already satisfied: scipy>=0.18.1 in /usr/local/lib/python3.6/dist-packages (from gensim) (1.4.1)\n",
            "Requirement already satisfied: smart-open>=1.2.1 in /usr/local/lib/python3.6/dist-packages (from gensim) (3.0.0)\n",
            "Requirement already satisfied: numpy>=1.11.3 in /usr/local/lib/python3.6/dist-packages (from gensim) (1.18.5)\n",
            "Requirement already satisfied: six>=1.5.0 in /usr/local/lib/python3.6/dist-packages (from gensim) (1.15.0)\n",
            "Requirement already satisfied: requests in /usr/local/lib/python3.6/dist-packages (from smart-open>=1.2.1->gensim) (2.23.0)\n",
            "Requirement already satisfied: certifi>=2017.4.17 in /usr/local/lib/python3.6/dist-packages (from requests->smart-open>=1.2.1->gensim) (2020.6.20)\n",
            "Requirement already satisfied: urllib3!=1.25.0,!=1.25.1,<1.26,>=1.21.1 in /usr/local/lib/python3.6/dist-packages (from requests->smart-open>=1.2.1->gensim) (1.24.3)\n",
            "Requirement already satisfied: chardet<4,>=3.0.2 in /usr/local/lib/python3.6/dist-packages (from requests->smart-open>=1.2.1->gensim) (3.0.4)\n",
            "Requirement already satisfied: idna<3,>=2.5 in /usr/local/lib/python3.6/dist-packages (from requests->smart-open>=1.2.1->gensim) (2.10)\n",
            "Requirement already satisfied: h5py in /usr/local/lib/python3.6/dist-packages (2.8.0rc1)\n",
            "Requirement already satisfied: six in /usr/local/lib/python3.6/dist-packages (from h5py) (1.15.0)\n",
            "Requirement already satisfied: numpy>=1.7 in /usr/local/lib/python3.6/dist-packages (from h5py) (1.18.5)\n",
            "Requirement already satisfied: gdown in /usr/local/lib/python3.6/dist-packages (3.6.4)\n",
            "Requirement already satisfied: six in /usr/local/lib/python3.6/dist-packages (from gdown) (1.15.0)\n",
            "Requirement already satisfied: requests in /usr/local/lib/python3.6/dist-packages (from gdown) (2.23.0)\n",
            "Requirement already satisfied: tqdm in /usr/local/lib/python3.6/dist-packages (from gdown) (4.41.1)\n",
            "Requirement already satisfied: chardet<4,>=3.0.2 in /usr/local/lib/python3.6/dist-packages (from requests->gdown) (3.0.4)\n",
            "Requirement already satisfied: idna<3,>=2.5 in /usr/local/lib/python3.6/dist-packages (from requests->gdown) (2.10)\n",
            "Requirement already satisfied: urllib3!=1.25.0,!=1.25.1,<1.26,>=1.21.1 in /usr/local/lib/python3.6/dist-packages (from requests->gdown) (1.24.3)\n",
            "Requirement already satisfied: certifi>=2017.4.17 in /usr/local/lib/python3.6/dist-packages (from requests->gdown) (2020.6.20)\n"
          ],
          "name": "stdout"
        }
      ]
    },
    {
      "cell_type": "markdown",
      "metadata": {
        "id": "_2dH4cqq8Aa4"
      },
      "source": [
        "下載模型"
      ]
    },
    {
      "cell_type": "code",
      "metadata": {
        "id": "HnQA6MOZ8CJY",
        "outputId": "eeeb5c89-2715-4256-d06e-46502dbf37ee",
        "colab": {
          "base_uri": "https://localhost:8080/"
        }
      },
      "source": [
        "# -*- coding: utf-8 -*-\n",
        "import gdown\n",
        "\n",
        "url = 'https://drive.google.com/uc?export=download&id=1LA19Dn8xbtSibmVkjLZfrk8NJzJUAqxt'\n",
        "output = 'wiki2019tw_word2vec_cbow_d200.zip'\n",
        "gdown.download(url, output, quiet=False)\n",
        "\n",
        "!unzip wiki2019tw_word2vec_cbow_d200.zip"
      ],
      "execution_count": 4,
      "outputs": [
        {
          "output_type": "stream",
          "text": [
            "Downloading...\n",
            "From: https://drive.google.com/uc?export=download&id=1LA19Dn8xbtSibmVkjLZfrk8NJzJUAqxt\n",
            "To: /content/wiki2019tw_word2vec_cbow_d200.zip\n",
            "1.68GB [00:08, 191MB/s] \n"
          ],
          "name": "stderr"
        },
        {
          "output_type": "stream",
          "text": [
            "Archive:  wiki2019tw_word2vec_cbow_d200.zip\n",
            "   creating: wiki2019tw_word2vec_cbow_d200/\n",
            "  inflating: wiki2019tw_word2vec_cbow_d200/wiki2019tw_word2vec_cbow_d200.model.wv.vectors.npy  \n",
            "  inflating: wiki2019tw_word2vec_cbow_d200/wiki2019tw_word2vec_cbow_d200.model.trainables.syn1neg.npy  \n",
            "  inflating: wiki2019tw_word2vec_cbow_d200/wiki2019tw_word2vec_cbow_d200.model  \n",
            "  inflating: wiki2019tw_word2vec_cbow_d200/README.md  \n"
          ],
          "name": "stdout"
        }
      ]
    },
    {
      "cell_type": "markdown",
      "metadata": {
        "id": "tj4CQ4fq8Inp"
      },
      "source": [
        "使用 Word2vec使用 Word2vec"
      ]
    },
    {
      "cell_type": "code",
      "metadata": {
        "id": "KQk-hjCG8PEa",
        "outputId": "4fd87a98-a182-4e28-cfff-8b13438b3e7d",
        "colab": {
          "base_uri": "https://localhost:8080/"
        }
      },
      "source": [
        "# -*- coding: utf-8 -*-\n",
        "from gensim.models import word2vec\n",
        "from gensim import models\n",
        "import logging\n",
        "\n",
        "def main():\n",
        "\tlogging.basicConfig(format='%(asctime)s : %(levelname)s : %(message)s', level=logging.INFO)\n",
        "\tmodel = models.Word2Vec.load('./wiki2019tw_word2vec_cbow_d200/wiki2019tw_word2vec_cbow_d200.model')\n",
        "\n",
        "\tprint(\"提供 3 種測試模式\\n\")\n",
        "\tprint(\"輸入一個詞，則去尋找前一百個該詞的相似詞\")\n",
        "\tprint(\"輸入兩個詞，則去計算兩個詞的餘弦相似度\")\n",
        "\tprint(\"輸入三個詞，進行類比推理\")\n",
        "\n",
        "\twhile True:\n",
        "\t\ttry:\n",
        "\t\t\tquery = input()\n",
        "\t\t\tq_list = query.split()\n",
        "\n",
        "\t\t\tif len(q_list) == 1:\n",
        "\t\t\t\tprint(\"相似詞前 100 排序\")\n",
        "\t\t\t\tres = model.wv.most_similar(q_list[0],topn = 100)\n",
        "\t\t\t\tfor item in res:\n",
        "\t\t\t\t\tprint(item[0]+\",\"+str(item[1]))\n",
        "\n",
        "\t\t\telif len(q_list) == 2:\n",
        "\t\t\t\tprint(\"計算 Cosine 相似度\")\n",
        "\t\t\t\tres = model.wv.similarity(q_list[0],q_list[1])\n",
        "\t\t\t\tprint(res)\n",
        "\t\t\telse:\n",
        "\t\t\t\tprint(\"%s之於%s，如%s之於\" % (q_list[0],q_list[1],q_list[2]))\n",
        "\t\t\t\tres = model.wv.most_similar([q_list[0],q_list[2]], [q_list[1]], topn= 100)\n",
        "\t\t\t\tfor item in res:\n",
        "\t\t\t\t\tprint(item[0]+\",\"+str(item[1]))\n",
        "\t\t\tprint(\"----------------------------\")\n",
        "\t\texcept Exception as e:\n",
        "\t\t\tprint(repr(e))\n",
        "\n",
        "if __name__ == \"__main__\":\n",
        "\tmain()"
      ],
      "execution_count": null,
      "outputs": [
        {
          "output_type": "stream",
          "text": [
            "2020-11-01 05:47:12,557 : INFO : loading Word2Vec object from ./wiki2019tw_word2vec_cbow_d200/wiki2019tw_word2vec_cbow_d200.model\n",
            "2020-11-01 05:47:15,921 : INFO : loading wv recursively from ./wiki2019tw_word2vec_cbow_d200/wiki2019tw_word2vec_cbow_d200.model.wv.* with mmap=None\n",
            "2020-11-01 05:47:15,922 : INFO : loading vectors from ./wiki2019tw_word2vec_cbow_d200/wiki2019tw_word2vec_cbow_d200.model.wv.vectors.npy with mmap=None\n",
            "2020-11-01 05:47:26,389 : INFO : setting ignored attribute vectors_norm to None\n",
            "2020-11-01 05:47:26,391 : INFO : loading vocabulary recursively from ./wiki2019tw_word2vec_cbow_d200/wiki2019tw_word2vec_cbow_d200.model.vocabulary.* with mmap=None\n",
            "2020-11-01 05:47:26,394 : INFO : loading trainables recursively from ./wiki2019tw_word2vec_cbow_d200/wiki2019tw_word2vec_cbow_d200.model.trainables.* with mmap=None\n",
            "2020-11-01 05:47:26,395 : INFO : loading syn1neg from ./wiki2019tw_word2vec_cbow_d200/wiki2019tw_word2vec_cbow_d200.model.trainables.syn1neg.npy with mmap=None\n",
            "2020-11-01 05:47:29,458 : INFO : setting ignored attribute cum_table to None\n",
            "2020-11-01 05:47:29,459 : INFO : loaded ./wiki2019tw_word2vec_cbow_d200/wiki2019tw_word2vec_cbow_d200.model\n"
          ],
          "name": "stderr"
        },
        {
          "output_type": "stream",
          "text": [
            "提供 3 種測試模式\n",
            "\n",
            "輸入一個詞，則去尋找前一百個該詞的相似詞\n",
            "輸入兩個詞，則去計算兩個詞的餘弦相似度\n",
            "輸入三個詞，進行類比推理\n",
            "寵物\n"
          ],
          "name": "stdout"
        },
        {
          "output_type": "stream",
          "text": [
            "/usr/local/lib/python3.6/dist-packages/ipykernel_launcher.py:22: DeprecationWarning: Call to deprecated `most_similar` (Method will be removed in 4.0.0, use self.wv.most_similar() instead).\n",
            "2020-11-01 05:47:35,628 : INFO : precomputing L2-norms of word weight vectors\n"
          ],
          "name": "stderr"
        },
        {
          "output_type": "stream",
          "text": [
            "相似詞前 100 排序\n"
          ],
          "name": "stdout"
        },
        {
          "output_type": "stream",
          "text": [
            "/usr/local/lib/python3.6/dist-packages/gensim/matutils.py:737: FutureWarning: Conversion of the second argument of issubdtype from `int` to `np.signedinteger` is deprecated. In future, it will be treated as `np.int64 == np.dtype(int).type`.\n",
            "  if np.issubdtype(vec.dtype, np.int):\n"
          ],
          "name": "stderr"
        },
        {
          "output_type": "stream",
          "text": [
            "貓咪,0.6556082963943481\n",
            "貓狗,0.6311498880386353\n",
            "飼主,0.6260654926300049\n",
            "小狗,0.6201081275939941\n",
            "老鼠,0.6186849474906921\n",
            "玩具,0.6126869320869446\n",
            "猴子,0.6029270887374878\n",
            "玩偶,0.6012143492698669\n",
            "蟑螂,0.5909826755523682\n",
            "狗,0.5846914649009705\n",
            "兔子,0.5831881761550903\n",
            "泰迪熊,0.5760003924369812\n",
            "貓熊,0.5723609924316406\n",
            "狗貓,0.5662808418273926\n",
            "貓,0.5659617781639099\n",
            "飼養,0.5619274377822876\n",
            "雀鳥,0.5562758445739746\n",
            "家畜,0.5560234785079956\n",
            "青蛙,0.554029643535614\n",
            "蜘蛛,0.5538380146026611\n",
            "家禽,0.5494690537452698\n",
            "無尾熊,0.5487178564071655\n",
            "螞蟻,0.5482839345932007\n",
            "犬類,0.5425726771354675\n",
            "流浪狗,0.5412184000015259\n",
            "綿羊,0.5407993793487549\n",
            "流浪貓,0.540124773979187\n",
            "北極熊,0.5387265086174011\n",
            "零食,0.5382383465766907\n",
            "飼養員,0.5377946496009827\n",
            "跳蚤,0.5318205952644348\n",
            "蝙蝠,0.5311771035194397\n",
            "貓頭鷹,0.5294970273971558\n",
            "家貓,0.526878297328949\n",
            "海龜,0.5266653895378113\n",
            "寵物店,0.5261834859848022\n",
            "犬貓,0.5252529382705688\n",
            "皮卡丘,0.5219767093658447\n",
            "糖果,0.5217869281768799\n",
            "犬隻,0.5217785239219666\n",
            "頑皮,0.5193811655044556\n",
            "狐狸,0.5172721147537231\n",
            "奶牛,0.5163429975509644\n",
            "腐肉,0.5157864093780518\n",
            "食物,0.5154739022254944\n",
            "狗狗,0.5152031183242798\n",
            "獵殺,0.5145708322525024\n",
            "流浪犬,0.5125067234039307\n",
            "寶貝,0.5110560655593872\n",
            "娃娃,0.510554850101471\n",
            "蜜蜂,0.5095286965370178\n",
            "人偶,0.5081762075424194\n",
            "紀念品,0.508001446723938\n",
            "庇護所,0.5069775581359863\n",
            "布偶,0.5069214105606079\n",
            "鯊魚,0.5062763690948486\n",
            "公仔,0.5047786235809326\n",
            "史努比,0.5042566061019897\n",
            "圈養,0.503990888595581\n",
            "鴨子,0.5034680962562561\n",
            "家犬,0.5031349658966064\n",
            "章魚,0.5031340718269348\n",
            "寶可夢,0.5029603242874146\n",
            "乳牛,0.5002039670944214\n",
            "餵食,0.4994918406009674\n",
            "野獸,0.4993455111980438\n",
            "肉食,0.4969152808189392\n",
            "小豬,0.49672576785087585\n",
            "海豚,0.4961652159690857\n",
            "飼料,0.49463897943496704\n",
            "鼠類,0.49415844678878784\n",
            "鴿子,0.4915473163127899\n",
            "怪獸,0.4904448091983795\n",
            "女僕,0.4904027581214905\n",
            "麻瓜,0.4903540015220642\n",
            "史萊姆,0.4897279143333435\n",
            "懶熊,0.4881564974784851\n",
            "獵取,0.48719164729118347\n",
            "火雞,0.4871668219566345\n",
            "日用品,0.48640137910842896\n",
            "小孩,0.48533791303634644\n",
            "兒童,0.4851192831993103\n",
            "螃蟹,0.4831480383872986\n",
            "所養,0.48284268379211426\n",
            "物品,0.4828040897846222\n",
            "米老鼠,0.4815048575401306\n",
            "愛犬,0.4805620312690735\n",
            "主人,0.48034435510635376\n",
            "小孩子,0.48001664876937866\n",
            "甲蟲,0.4799560606479645\n",
            "飼育,0.47988060116767883\n",
            "牛隻,0.47935500741004944\n",
            "魔物,0.47921010851860046\n",
            "妖精,0.4791618287563324\n",
            "嬰兒,0.4784974455833435\n",
            "聖誕老人,0.4781472086906433\n",
            "動物,0.4776344299316406\n",
            "寶石,0.477517694234848\n",
            "唐老鴨,0.4773430824279785\n",
            "玩耍,0.4770223796367645\n",
            "----------------------------\n",
            "爸爸 媽媽\n",
            "計算 Cosine 相似度\n",
            "0.8409021\n",
            "----------------------------\n",
            "爸爸 媽媽 姊姊\n",
            "爸爸之於媽媽，如姊姊之於\n",
            "哥哥,0.8140170574188232\n",
            "妹妹,0.7985454797744751\n",
            "姐姐,0.7831918597221375\n",
            "弟弟,0.7171624898910522\n",
            "女兒,0.6971201300621033\n",
            "表哥,0.6885976791381836\n",
            "表姐,0.6842831969261169\n",
            "未婚妻,0.6746839880943298\n",
            "女朋友,0.665240466594696\n",
            "兄長,0.6626937985420227\n",
            "大兒子,0.6568405032157898\n",
            "男朋友,0.6537808179855347\n",
            "兒子,0.6505104899406433\n",
            "老婆,0.6480512022972107\n",
            "姪女,0.6478279829025269\n",
            "同父,0.6457884311676025\n",
            "未婚夫,0.640945553779602\n",
            "阿姨,0.6377098560333252\n",
            "前夫,0.6373645663261414\n",
            "妻子,0.6358436942100525\n",
            "前妻,0.6356587409973145\n",
            "表妹,0.6352394819259644\n",
            "繼父,0.6317773461341858\n",
            "嬸嬸,0.6310550570487976\n",
            "表弟,0.6308631896972656\n",
            "青梅竹馬,0.6307405829429626\n",
            "表兄弟,0.6271908283233643\n",
            "姑姑,0.6241210699081421\n",
            "太太,0.6191267371177673\n",
            "表兄,0.6174153685569763\n",
            "好朋友,0.6157771944999695\n",
            "繼子,0.6155797839164734\n",
            "舊情人,0.6149258613586426\n",
            "二女兒,0.6107020378112793\n",
            "大哥,0.6086006164550781\n",
            "姨媽,0.6074502468109131\n",
            "姊夫,0.6043523550033569\n",
            "弟妹,0.6040307283401489\n",
            "丈夫,0.5994280576705933\n",
            "叔叔,0.5978989601135254\n",
            "死黨,0.5974658131599426\n",
            "前男友,0.5966246724128723\n",
            "姊弟,0.5945115089416504\n",
            "胞妹,0.5923641324043274\n",
            "大姐,0.5900070667266846\n",
            "外甥女,0.5885400772094727\n",
            "女友,0.5878902673721313\n",
            "母親,0.5863223075866699\n",
            "玩伴,0.585468053817749\n",
            "私生女,0.5845882296562195\n",
            "姐夫,0.5836700201034546\n",
            "獨生女,0.583392322063446\n",
            "侄女,0.5833232998847961\n",
            "奶奶,0.5828959941864014\n",
            "好友,0.5818571448326111\n",
            "養女,0.5805985927581787\n",
            "兄妹,0.5795098543167114\n",
            "爺爺,0.5767024755477905\n",
            "親生,0.5761768221855164\n",
            "姨丈,0.5760558843612671\n",
            "堂姐,0.5725264549255371\n",
            "表親,0.5724793672561646\n",
            "表姊,0.572113037109375\n",
            "姐弟,0.5714334845542908\n",
            "獨生子,0.5707017779350281\n",
            "兒媳,0.5701855421066284\n",
            "外婆,0.5701745748519897\n",
            "異父,0.5701675415039062\n",
            "嫂子,0.5698832273483276\n",
            "堂妹,0.5682833790779114\n",
            "二姊,0.5680311918258667\n",
            "摯友,0.5677403211593628\n",
            "姪子,0.5672231912612915\n",
            "胞姊,0.5670526623725891\n",
            "二哥,0.566862165927887\n",
            "外甥,0.5666906237602234\n",
            "密友,0.5659909844398499\n",
            "室友,0.5656040906906128\n",
            "舅舅,0.5649508237838745\n",
            "兒時,0.5647715330123901\n",
            "兄弟,0.5642738342285156\n",
            "外公,0.5639123320579529\n",
            "姨母,0.563686728477478\n",
            "孫兒,0.5626543760299683\n",
            "兄姊,0.5616776347160339\n",
            "堂兄弟,0.5608253479003906\n",
            "女伴,0.5582718253135681\n",
            "弟媳,0.5580765008926392\n",
            "外孫女,0.5571348071098328\n",
            "父親,0.5565963983535767\n",
            "死對頭,0.5555744171142578\n",
            "孫女,0.5547434091567993\n",
            "獨女,0.5542091727256775\n",
            "大伯,0.5528416633605957\n",
            "養父,0.5527942180633545\n",
            "雙胞胎,0.5526279211044312\n",
            "姑姐,0.552586555480957\n",
            "徒弟,0.550953209400177\n",
            "兄姐,0.5508551597595215\n",
            "克萊兒,0.5489522218704224\n",
            "----------------------------\n"
          ],
          "name": "stdout"
        }
      ]
    }
  ]
}