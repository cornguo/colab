{
  "nbformat": 4,
  "nbformat_minor": 0,
  "metadata": {
    "colab": {
      "name": "Word2vec",
      "provenance": [],
      "collapsed_sections": [],
      "authorship_tag": "ABX9TyN8yQ2RFaES6EfR2uCmMXG1",
      "include_colab_link": true
    },
    "kernelspec": {
      "name": "python3",
      "display_name": "Python 3"
    }
  },
  "cells": [
    {
      "cell_type": "markdown",
      "metadata": {
        "id": "view-in-github",
        "colab_type": "text"
      },
      "source": [
        "<a href=\"https://colab.research.google.com/github/cornguo/colab/blob/main/Word2vec.ipynb\" target=\"_parent\"><img src=\"https://colab.research.google.com/assets/colab-badge.svg\" alt=\"Open In Colab\"/></a>"
      ]
    },
    {
      "cell_type": "markdown",
      "metadata": {
        "id": "24dOB_0i-cq7"
      },
      "source": [
        "參考資料\n",
        "\n",
        "* https://zake7749.github.io/2016/08/28/word2vec-with-gensim/\n",
        "* https://www.facebook.com/notes/%E5%8F%B0%E7%81%A3%E8%87%AA%E7%84%B6%E8%AA%9E%E8%A8%80%E8%99%95%E7%90%86%E8%88%87%E4%BA%BA%E5%B7%A5%E6%99%BA%E6%85%A7%E4%BA%A4%E6%B5%81%E7%A4%BE/nlp%E5%8F%B0%E7%81%A3%E6%A8%A1%E5%9E%8B02word2vec-cbow-%E8%A9%9E%E5%90%91%E9%87%8F/220442036055146/\n",
        "\n"
      ]
    },
    {
      "cell_type": "markdown",
      "metadata": {
        "id": "3FLjps8s7sNw"
      },
      "source": [
        "安裝 gensim, gdown"
      ]
    },
    {
      "cell_type": "code",
      "metadata": {
        "id": "5ey61zDB7fOs"
      },
      "source": [
        "!pip3 install gensim\n",
        "!pip3 install h5py\n",
        "!pip3 install gdown"
      ],
      "execution_count": null,
      "outputs": []
    },
    {
      "cell_type": "markdown",
      "metadata": {
        "id": "_2dH4cqq8Aa4"
      },
      "source": [
        "下載模型"
      ]
    },
    {
      "cell_type": "code",
      "metadata": {
        "id": "HnQA6MOZ8CJY"
      },
      "source": [
        "# -*- coding: utf-8 -*-\n",
        "import gdown\n",
        "\n",
        "url = 'https://drive.google.com/uc?export=download&id=1LA19Dn8xbtSibmVkjLZfrk8NJzJUAqxt'\n",
        "output = 'wiki2019tw_word2vec_cbow_d200.zip'\n",
        "gdown.download(url, output, quiet=False)\n",
        "\n",
        "!unzip wiki2019tw_word2vec_cbow_d200.zip"
      ],
      "execution_count": null,
      "outputs": []
    },
    {
      "cell_type": "markdown",
      "metadata": {
        "id": "tj4CQ4fq8Inp"
      },
      "source": [
        "使用 Word2vec使用 Word2vec"
      ]
    },
    {
      "cell_type": "code",
      "metadata": {
        "id": "KQk-hjCG8PEa"
      },
      "source": [
        "# -*- coding: utf-8 -*-\n",
        "from gensim.models import word2vec\n",
        "from gensim import models\n",
        "import logging\n",
        "\n",
        "def main():\n",
        "\tlogging.basicConfig(format='%(asctime)s : %(levelname)s : %(message)s', level=logging.INFO)\n",
        "\tmodel = models.Word2Vec.load('./wiki2019tw_word2vec_cbow_d200/wiki2019tw_word2vec_cbow_d200.model')\n",
        "\n",
        "\tprint(\"提供 3 種測試模式\\n\")\n",
        "\tprint(\"輸入一個詞，則去尋找前一百個該詞的相似詞\")\n",
        "\tprint(\"輸入兩個詞，則去計算兩個詞的餘弦相似度\")\n",
        "\tprint(\"輸入三個詞，進行類比推理\")\n",
        "\n",
        "\twhile True:\n",
        "\t\ttry:\n",
        "\t\t\tquery = input()\n",
        "\t\t\tq_list = query.split()\n",
        "\n",
        "\t\t\tif len(q_list) == 1:\n",
        "\t\t\t\tprint(\"相似詞前 100 排序\")\n",
        "\t\t\t\tres = model.wv.most_similar(q_list[0],topn = 100)\n",
        "\t\t\t\tfor item in res:\n",
        "\t\t\t\t\tprint(item[0]+\",\"+str(item[1]))\n",
        "\n",
        "\t\t\telif len(q_list) == 2:\n",
        "\t\t\t\tprint(\"計算 Cosine 相似度\")\n",
        "\t\t\t\tres = model.wv.similarity(q_list[0],q_list[1])\n",
        "\t\t\t\tprint(res)\n",
        "\t\t\telse:\n",
        "\t\t\t\tprint(\"%s之於%s，如%s之於\" % (q_list[0],q_list[1],q_list[2]))\n",
        "\t\t\t\tres = model.wv.most_similar([q_list[0],q_list[2]], [q_list[1]], topn= 100)\n",
        "\t\t\t\tfor item in res:\n",
        "\t\t\t\t\tprint(item[0]+\",\"+str(item[1]))\n",
        "\t\t\tprint(\"----------------------------\")\n",
        "\t\texcept Exception as e:\n",
        "\t\t\tprint(repr(e))\n",
        "\n",
        "if __name__ == \"__main__\":\n",
        "\tmain()"
      ],
      "execution_count": null,
      "outputs": []
    }
  ]
}