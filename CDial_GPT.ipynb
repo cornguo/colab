{
  "nbformat": 4,
  "nbformat_minor": 0,
  "metadata": {
    "colab": {
      "name": "CDial-GPT",
      "provenance": [],
      "collapsed_sections": [],
      "mount_file_id": "1D60SKQYzXO62_NvCgyq8hDWZPEsxUnrC",
      "authorship_tag": "ABX9TyOUMatKxnYIT66qFmm0S2MU",
      "include_colab_link": true
    },
    "kernelspec": {
      "name": "python3",
      "display_name": "Python 3"
    },
    "accelerator": "GPU"
  },
  "cells": [
    {
      "cell_type": "markdown",
      "metadata": {
        "id": "view-in-github",
        "colab_type": "text"
      },
      "source": [
        "<a href=\"https://colab.research.google.com/github/cornguo/colab/blob/main/CDial_GPT.ipynb\" target=\"_parent\"><img src=\"https://colab.research.google.com/assets/colab-badge.svg\" alt=\"Open In Colab\"/></a>"
      ]
    },
    {
      "cell_type": "markdown",
      "metadata": {
        "id": "Z-xKkUoHAKEu"
      },
      "source": [
        "資料來源\n",
        "* https://github.com/thu-coai/CDial-GPT.git"
      ]
    },
    {
      "cell_type": "code",
      "metadata": {
        "id": "BGlsXAt-AOwE"
      },
      "source": [
        ""
      ],
      "execution_count": null,
      "outputs": []
    },
    {
      "cell_type": "markdown",
      "metadata": {
        "id": "UwjjIbjra0Fx"
      },
      "source": [
        "安裝套件"
      ]
    },
    {
      "cell_type": "code",
      "metadata": {
        "id": "QAzYumavLnnC"
      },
      "source": [
        "!git clone https://github.com/thu-coai/CDial-GPT.git\n",
        "%cd /content/CDial-GPT\n",
        "!pip install -r requirements.txt"
      ],
      "execution_count": null,
      "outputs": []
    },
    {
      "cell_type": "markdown",
      "metadata": {
        "id": "QlE0R0J0avQM"
      },
      "source": [
        "下載模型"
      ]
    },
    {
      "cell_type": "code",
      "metadata": {
        "id": "QQlfWWZoNGHF"
      },
      "source": [
        "%cd /content/CDial-GPT/data\n",
        "#!wget https://cloud.tsinghua.edu.cn/f/372be4a9994b4124810e/?dl=1 -O STC-corpus.zip  # 下载 STC 数据集并将其解压至 \"data_path\" 目录 (如果微调所使用的数据集为 STC)\n",
        "#!unzip STC-corpus.zip\n",
        "#!wget https://cloud.tsinghua.edu.cn/f/4dfb8c6c22ae47fbbe98/?dl=1 -O GPT_LCCC-large.zip  # 下载 GPT_LCCC-large 模型权重文件，并将其解压至 \"model_checkpoint\" 目录\n",
        "#!unzip GPT_LCCC-large.zip\n",
        "!wget https://cloud.tsinghua.edu.cn/f/babe2be4f3f747abb887/?dl=1 -O GPT2_LCCC-base.zip\n",
        "!unzip GPT2_LCCC-base.zip\n",
        "\n",
        "#!mv ./CDial-GPT2_LCCC-base/vocab.txt ./CDial-GPT2_LCCC-base/vocab.cn.txt\n",
        "#!apt install cconv\n",
        "#!cconv -f UTF8-CN -t UTF8-TW ./CDial-GPT2_LCCC-base/vocab.cn.txt -o ./CDial-GPT2_LCCC-base/vocab.txt"
      ],
      "execution_count": null,
      "outputs": []
    },
    {
      "cell_type": "markdown",
      "metadata": {
        "id": "yVo-Gp7AayK3"
      },
      "source": [
        "Fine-tune"
      ]
    },
    {
      "cell_type": "code",
      "metadata": {
        "id": "Gv3XoOTCMHHY"
      },
      "source": [
        "%cd /content/CDial-GPT\n",
        "!wget https://raw.githubusercontent.com/zake7749/Gossiping-Chinese-Corpus/master/data/Gossiping-QA-Dataset.txt -O ./data/Gossiping-QA-Dataset.txt\n",
        "\n",
        "#!PYTHONPATH=$(pwd) python -m torch.distributed.launch --nproc_per_node=2 train.py --pretrained --model_checkpoint ./data/CDial-GPT2_LCCC-base/ --train_path ./data/Gossiping-QA-Dataset.txt --scheduler linear --gpt2 --n_epochs 1 # 以分布式的方式在8块GPU上训练\n",
        "\n",
        "# 2000\n",
        "!shuf -n 2000 ./data/Gossiping-QA-Dataset.txt | awk -F '\\t' '{print $1\"\\n\"$2}' | sed 's/\\(.\\)/\\1 /g' | sed 's/ $//g' > ./data/Gossiping-QA-Dataset.2000.txt\n",
        "!PYTHONPATH=$(pwd) python train.py --pretrained --model_checkpoint ./data/CDial-GPT2_LCCC-base/ --train_path ./data/Gossiping-QA-Dataset.2000.txt --scheduler linear --gpt2 --n_epochs 30 # 使用单个GPU进行训练\n",
        "!mkdir -p \"/content/drive/My Drive/tmp/CDial-GPT2_LCCC-base/2000\"\n",
        "!cp -rf /content/CDial-GPT/data/CDial-GPT2_LCCC-base/* \"/content/drive/My Drive/tmp/CDial-GPT2_LCCC-base/2000\""
      ],
      "execution_count": null,
      "outputs": []
    },
    {
      "cell_type": "markdown",
      "metadata": {
        "id": "lXXH5IGcar0l"
      },
      "source": [
        "測試模型"
      ]
    },
    {
      "cell_type": "code",
      "metadata": {
        "id": "2k5um81dMPmJ"
      },
      "source": [
        "%cd /content/CDial-GPT\n",
        "#!PYTHONPATH=$(pwd) python infer.py --model_checkpoint ./data/CDial-GPT2_LCCC-base/ --datapath STC_test.json --out_path STC_result.txt --gpt2 # 在测试数据上生成回复\n",
        "!PYTHONPATH=$(pwd) python interact.py --model_checkpoint ./data/CDial-GPT2_LCCC-base/ --gpt2 # 在命令行中与模型进行交互"
      ],
      "execution_count": null,
      "outputs": []
    }
  ]
}