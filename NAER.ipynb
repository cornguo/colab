{
  "nbformat": 4,
  "nbformat_minor": 0,
  "metadata": {
    "colab": {
      "name": "NAER.ipynb",
      "provenance": [],
      "authorship_tag": "ABX9TyMz1DmWjXc3wFAcS7j/NjTX",
      "include_colab_link": true
    },
    "kernelspec": {
      "name": "python2",
      "display_name": "Python 2"
    },
    "language_info": {
      "name": "python"
    }
  },
  "cells": [
    {
      "cell_type": "markdown",
      "metadata": {
        "id": "view-in-github",
        "colab_type": "text"
      },
      "source": [
        "<a href=\"https://colab.research.google.com/github/cornguo/colab/blob/main/NAER.ipynb\" target=\"_parent\"><img src=\"https://colab.research.google.com/assets/colab-badge.svg\" alt=\"Open In Colab\"/></a>"
      ]
    },
    {
      "cell_type": "markdown",
      "metadata": {
        "id": "uqhnj2MjxY29"
      },
      "source": [
        "參考資料\n",
        "\n",
        "* https://github.com/naernlp/Segmentor\n"
      ]
    },
    {
      "cell_type": "markdown",
      "metadata": {
        "id": "upozdTCZ1F2y"
      },
      "source": [
        "安裝 CRF++"
      ]
    },
    {
      "cell_type": "code",
      "metadata": {
        "id": "hBqCFjYwxmk6"
      },
      "source": [
        "!curl -L \"https://drive.google.com/uc?export=download&id=0B4y35FiV1wh7QVR6VXJ5dWExSTQ\" | tar xzvf -\n",
        "!cd CRF++-0.58; ./configure; make; sudo make install; cd python; sudo python setup.py install\n",
        "!sudo chmod 755 /usr/local/lib/python2.7/dist-packages/*.so\n",
        "!ln -s /usr/local/lib/libcrfpp.so.0 /usr/lib/"
      ],
      "execution_count": null,
      "outputs": []
    },
    {
      "cell_type": "markdown",
      "metadata": {
        "id": "j24rtV1I1JgE"
      },
      "source": [
        "安裝國教院分詞系統"
      ]
    },
    {
      "cell_type": "code",
      "metadata": {
        "id": "3vo9OrWmwKg5"
      },
      "source": [
        "!git clone https://github.com/naernlp/Segmentor\n",
        "!curl https://120.127.233.228/download/Segmentor/naer-segmentor-models-20160318.tar.gz -k | tar xzvf - -C Segmentor/Segmentor\n",
        "!cd Segmentor; sudo python setup.py install"
      ],
      "execution_count": null,
      "outputs": []
    },
    {
      "cell_type": "markdown",
      "metadata": {
        "id": "ZgFfo5Y31N5Q"
      },
      "source": [
        "測試"
      ]
    },
    {
      "cell_type": "code",
      "metadata": {
        "id": "plDMF61awUD2"
      },
      "source": [
        "# -*- coding: utf-8 -*-\n",
        "import json\n",
        "from Segmentor import *\n",
        "segmenter=Segmentor()\n",
        "words=segmenter.segment(u\"中文分詞系統。\")\n",
        "print json.dumps(words,ensure_ascii=False)\n",
        "\n",
        "tagger=POSTagger()\n",
        "result=tagger.procSent(words)\n",
        "print json.dumps(result,ensure_ascii=False)"
      ],
      "execution_count": null,
      "outputs": []
    }
  ]
}