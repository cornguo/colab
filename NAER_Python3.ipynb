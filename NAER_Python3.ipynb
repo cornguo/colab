{
  "nbformat": 4,
  "nbformat_minor": 0,
  "metadata": {
    "colab": {
      "name": "NAER-Python3.ipynb",
      "provenance": [],
      "authorship_tag": "ABX9TyN2TqvHx1nqSM21Jto5q447",
      "include_colab_link": true
    },
    "kernelspec": {
      "name": "python3",
      "display_name": "Python 3"
    },
    "language_info": {
      "name": "python"
    }
  },
  "cells": [
    {
      "cell_type": "markdown",
      "metadata": {
        "id": "view-in-github",
        "colab_type": "text"
      },
      "source": [
        "<a href=\"https://colab.research.google.com/github/cornguo/colab/blob/main/NAER_Python3.ipynb\" target=\"_parent\"><img src=\"https://colab.research.google.com/assets/colab-badge.svg\" alt=\"Open In Colab\"/></a>"
      ]
    },
    {
      "cell_type": "markdown",
      "metadata": {
        "id": "foU7bGquFaSm"
      },
      "source": [
        "國教院分詞器，改寫為 Python3 相容語法\n",
        "\n",
        "參考資料\n",
        "* https://github.com/naernlp/Segmentor"
      ]
    },
    {
      "cell_type": "markdown",
      "metadata": {
        "id": "Zz4CLcTDFlf_"
      },
      "source": [
        "安裝 CRF++"
      ]
    },
    {
      "cell_type": "code",
      "metadata": {
        "id": "P1_8eDcUEMYf"
      },
      "source": [
        "!curl -L \"https://drive.google.com/uc?export=download&id=0B4y35FiV1wh7QVR6VXJ5dWExSTQ\" | tar xzvf -\n",
        "!cd CRF++-0.58; ./configure; make; sudo make install; cd python; sudo python setup.py install\n",
        "!ln -s /usr/local/lib/libcrfpp.so.0 /usr/lib/"
      ],
      "execution_count": null,
      "outputs": []
    },
    {
      "cell_type": "markdown",
      "metadata": {
        "id": "0yMjICjYFoWU"
      },
      "source": [
        "安裝國教院分詞系統"
      ]
    },
    {
      "cell_type": "code",
      "metadata": {
        "id": "aRCEQUDqEV4p"
      },
      "source": [
        "!git clone --branch python3 https://github.com/cornguo/Segmentor\n",
        "!curl https://120.127.233.228/download/Segmentor/naer-segmentor-models-20160318.tar.gz -k | tar xzvf - -C Segmentor/Segmentor\n",
        "!cd Segmentor; sudo python setup.py install"
      ],
      "execution_count": null,
      "outputs": []
    },
    {
      "cell_type": "markdown",
      "metadata": {
        "id": "dKw2t3bXFtkf"
      },
      "source": [
        "測試"
      ]
    },
    {
      "cell_type": "code",
      "metadata": {
        "id": "t8XE_pwhEwjv"
      },
      "source": [
        "# -*- coding: utf-8 -*-\n",
        "import json\n",
        "from Segmentor import *\n",
        "segmenter=Segmentor()\n",
        "words=segmenter.segment(u\"中文分詞系統。\")\n",
        "print(json.dumps(words,ensure_ascii=False))\n",
        "\n",
        "tagger=POSTagger()\n",
        "result=tagger.procSent(words)\n",
        "print(json.dumps(result,ensure_ascii=False))"
      ],
      "execution_count": null,
      "outputs": []
    }
  ]
}