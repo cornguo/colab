{
  "nbformat": 4,
  "nbformat_minor": 0,
  "metadata": {
    "colab": {
      "name": "BERT.ipynb",
      "provenance": [],
      "collapsed_sections": [],
      "include_colab_link": true
    },
    "kernelspec": {
      "name": "python3",
      "display_name": "Python 3"
    },
    "widgets": {
      "application/vnd.jupyter.widget-state+json": {
        "55cfccfd7b9c41879386c45ed483527e": {
          "model_module": "@jupyter-widgets/controls",
          "model_name": "HBoxModel",
          "state": {
            "_view_name": "HBoxView",
            "_dom_classes": [],
            "_model_name": "HBoxModel",
            "_view_module": "@jupyter-widgets/controls",
            "_model_module_version": "1.5.0",
            "_view_count": null,
            "_view_module_version": "1.5.0",
            "box_style": "",
            "layout": "IPY_MODEL_1abf2fcc68714222b12ee6c08e720e0f",
            "_model_module": "@jupyter-widgets/controls",
            "children": [
              "IPY_MODEL_84e8221ed0ed456d856e03b0abf0d75c",
              "IPY_MODEL_cdf2231329aa4c3f9e5466d88b73500c"
            ]
          }
        },
        "1abf2fcc68714222b12ee6c08e720e0f": {
          "model_module": "@jupyter-widgets/base",
          "model_name": "LayoutModel",
          "state": {
            "_view_name": "LayoutView",
            "grid_template_rows": null,
            "right": null,
            "justify_content": null,
            "_view_module": "@jupyter-widgets/base",
            "overflow": null,
            "_model_module_version": "1.2.0",
            "_view_count": null,
            "flex_flow": null,
            "width": null,
            "min_width": null,
            "border": null,
            "align_items": null,
            "bottom": null,
            "_model_module": "@jupyter-widgets/base",
            "top": null,
            "grid_column": null,
            "overflow_y": null,
            "overflow_x": null,
            "grid_auto_flow": null,
            "grid_area": null,
            "grid_template_columns": null,
            "flex": null,
            "_model_name": "LayoutModel",
            "justify_items": null,
            "grid_row": null,
            "max_height": null,
            "align_content": null,
            "visibility": null,
            "align_self": null,
            "height": null,
            "min_height": null,
            "padding": null,
            "grid_auto_rows": null,
            "grid_gap": null,
            "max_width": null,
            "order": null,
            "_view_module_version": "1.2.0",
            "grid_template_areas": null,
            "object_position": null,
            "object_fit": null,
            "grid_auto_columns": null,
            "margin": null,
            "display": null,
            "left": null
          }
        },
        "84e8221ed0ed456d856e03b0abf0d75c": {
          "model_module": "@jupyter-widgets/controls",
          "model_name": "FloatProgressModel",
          "state": {
            "_view_name": "ProgressView",
            "style": "IPY_MODEL_2a5eac2dbc6c4ecb8476ddc2ef5e1e1e",
            "_dom_classes": [],
            "description": "Downloading: 100%",
            "_model_name": "FloatProgressModel",
            "bar_style": "success",
            "max": 109540,
            "_view_module": "@jupyter-widgets/controls",
            "_model_module_version": "1.5.0",
            "value": 109540,
            "_view_count": null,
            "_view_module_version": "1.5.0",
            "orientation": "horizontal",
            "min": 0,
            "description_tooltip": null,
            "_model_module": "@jupyter-widgets/controls",
            "layout": "IPY_MODEL_7f3f0688f6844c449a9f1bb777a348be"
          }
        },
        "cdf2231329aa4c3f9e5466d88b73500c": {
          "model_module": "@jupyter-widgets/controls",
          "model_name": "HTMLModel",
          "state": {
            "_view_name": "HTMLView",
            "style": "IPY_MODEL_1c9f2135002b4c7ca5adc10dc363dc52",
            "_dom_classes": [],
            "description": "",
            "_model_name": "HTMLModel",
            "placeholder": "​",
            "_view_module": "@jupyter-widgets/controls",
            "_model_module_version": "1.5.0",
            "value": " 110k/110k [00:00&lt;00:00, 445kB/s]",
            "_view_count": null,
            "_view_module_version": "1.5.0",
            "description_tooltip": null,
            "_model_module": "@jupyter-widgets/controls",
            "layout": "IPY_MODEL_d5f54ba39c2d4e3882412662e32a03d5"
          }
        },
        "2a5eac2dbc6c4ecb8476ddc2ef5e1e1e": {
          "model_module": "@jupyter-widgets/controls",
          "model_name": "ProgressStyleModel",
          "state": {
            "_view_name": "StyleView",
            "_model_name": "ProgressStyleModel",
            "description_width": "initial",
            "_view_module": "@jupyter-widgets/base",
            "_model_module_version": "1.5.0",
            "_view_count": null,
            "_view_module_version": "1.2.0",
            "bar_color": null,
            "_model_module": "@jupyter-widgets/controls"
          }
        },
        "7f3f0688f6844c449a9f1bb777a348be": {
          "model_module": "@jupyter-widgets/base",
          "model_name": "LayoutModel",
          "state": {
            "_view_name": "LayoutView",
            "grid_template_rows": null,
            "right": null,
            "justify_content": null,
            "_view_module": "@jupyter-widgets/base",
            "overflow": null,
            "_model_module_version": "1.2.0",
            "_view_count": null,
            "flex_flow": null,
            "width": null,
            "min_width": null,
            "border": null,
            "align_items": null,
            "bottom": null,
            "_model_module": "@jupyter-widgets/base",
            "top": null,
            "grid_column": null,
            "overflow_y": null,
            "overflow_x": null,
            "grid_auto_flow": null,
            "grid_area": null,
            "grid_template_columns": null,
            "flex": null,
            "_model_name": "LayoutModel",
            "justify_items": null,
            "grid_row": null,
            "max_height": null,
            "align_content": null,
            "visibility": null,
            "align_self": null,
            "height": null,
            "min_height": null,
            "padding": null,
            "grid_auto_rows": null,
            "grid_gap": null,
            "max_width": null,
            "order": null,
            "_view_module_version": "1.2.0",
            "grid_template_areas": null,
            "object_position": null,
            "object_fit": null,
            "grid_auto_columns": null,
            "margin": null,
            "display": null,
            "left": null
          }
        },
        "1c9f2135002b4c7ca5adc10dc363dc52": {
          "model_module": "@jupyter-widgets/controls",
          "model_name": "DescriptionStyleModel",
          "state": {
            "_view_name": "StyleView",
            "_model_name": "DescriptionStyleModel",
            "description_width": "",
            "_view_module": "@jupyter-widgets/base",
            "_model_module_version": "1.5.0",
            "_view_count": null,
            "_view_module_version": "1.2.0",
            "_model_module": "@jupyter-widgets/controls"
          }
        },
        "d5f54ba39c2d4e3882412662e32a03d5": {
          "model_module": "@jupyter-widgets/base",
          "model_name": "LayoutModel",
          "state": {
            "_view_name": "LayoutView",
            "grid_template_rows": null,
            "right": null,
            "justify_content": null,
            "_view_module": "@jupyter-widgets/base",
            "overflow": null,
            "_model_module_version": "1.2.0",
            "_view_count": null,
            "flex_flow": null,
            "width": null,
            "min_width": null,
            "border": null,
            "align_items": null,
            "bottom": null,
            "_model_module": "@jupyter-widgets/base",
            "top": null,
            "grid_column": null,
            "overflow_y": null,
            "overflow_x": null,
            "grid_auto_flow": null,
            "grid_area": null,
            "grid_template_columns": null,
            "flex": null,
            "_model_name": "LayoutModel",
            "justify_items": null,
            "grid_row": null,
            "max_height": null,
            "align_content": null,
            "visibility": null,
            "align_self": null,
            "height": null,
            "min_height": null,
            "padding": null,
            "grid_auto_rows": null,
            "grid_gap": null,
            "max_width": null,
            "order": null,
            "_view_module_version": "1.2.0",
            "grid_template_areas": null,
            "object_position": null,
            "object_fit": null,
            "grid_auto_columns": null,
            "margin": null,
            "display": null,
            "left": null
          }
        },
        "40ca2adb234d4f5f82fce33505c1844c": {
          "model_module": "@jupyter-widgets/controls",
          "model_name": "HBoxModel",
          "state": {
            "_view_name": "HBoxView",
            "_dom_classes": [],
            "_model_name": "HBoxModel",
            "_view_module": "@jupyter-widgets/controls",
            "_model_module_version": "1.5.0",
            "_view_count": null,
            "_view_module_version": "1.5.0",
            "box_style": "",
            "layout": "IPY_MODEL_17aa0e07d90f43e2af2dc0d9ce90c67d",
            "_model_module": "@jupyter-widgets/controls",
            "children": [
              "IPY_MODEL_8dfc2813d63e4ae9b961ffe91ea98e3e",
              "IPY_MODEL_64297de5517942a49658ba1347e99ed9"
            ]
          }
        },
        "17aa0e07d90f43e2af2dc0d9ce90c67d": {
          "model_module": "@jupyter-widgets/base",
          "model_name": "LayoutModel",
          "state": {
            "_view_name": "LayoutView",
            "grid_template_rows": null,
            "right": null,
            "justify_content": null,
            "_view_module": "@jupyter-widgets/base",
            "overflow": null,
            "_model_module_version": "1.2.0",
            "_view_count": null,
            "flex_flow": null,
            "width": null,
            "min_width": null,
            "border": null,
            "align_items": null,
            "bottom": null,
            "_model_module": "@jupyter-widgets/base",
            "top": null,
            "grid_column": null,
            "overflow_y": null,
            "overflow_x": null,
            "grid_auto_flow": null,
            "grid_area": null,
            "grid_template_columns": null,
            "flex": null,
            "_model_name": "LayoutModel",
            "justify_items": null,
            "grid_row": null,
            "max_height": null,
            "align_content": null,
            "visibility": null,
            "align_self": null,
            "height": null,
            "min_height": null,
            "padding": null,
            "grid_auto_rows": null,
            "grid_gap": null,
            "max_width": null,
            "order": null,
            "_view_module_version": "1.2.0",
            "grid_template_areas": null,
            "object_position": null,
            "object_fit": null,
            "grid_auto_columns": null,
            "margin": null,
            "display": null,
            "left": null
          }
        },
        "8dfc2813d63e4ae9b961ffe91ea98e3e": {
          "model_module": "@jupyter-widgets/controls",
          "model_name": "FloatProgressModel",
          "state": {
            "_view_name": "ProgressView",
            "style": "IPY_MODEL_95028d9c3feb4a45a0f0d9ab35f4190d",
            "_dom_classes": [],
            "description": "Downloading: 100%",
            "_model_name": "FloatProgressModel",
            "bar_style": "success",
            "max": 624,
            "_view_module": "@jupyter-widgets/controls",
            "_model_module_version": "1.5.0",
            "value": 624,
            "_view_count": null,
            "_view_module_version": "1.5.0",
            "orientation": "horizontal",
            "min": 0,
            "description_tooltip": null,
            "_model_module": "@jupyter-widgets/controls",
            "layout": "IPY_MODEL_cb88cf3986c943ecbbeaf5f6041f9ae6"
          }
        },
        "64297de5517942a49658ba1347e99ed9": {
          "model_module": "@jupyter-widgets/controls",
          "model_name": "HTMLModel",
          "state": {
            "_view_name": "HTMLView",
            "style": "IPY_MODEL_d3cbf94b91594759999f7ef7c2ab4381",
            "_dom_classes": [],
            "description": "",
            "_model_name": "HTMLModel",
            "placeholder": "​",
            "_view_module": "@jupyter-widgets/controls",
            "_model_module_version": "1.5.0",
            "value": " 624/624 [00:15&lt;00:00, 40.3B/s]",
            "_view_count": null,
            "_view_module_version": "1.5.0",
            "description_tooltip": null,
            "_model_module": "@jupyter-widgets/controls",
            "layout": "IPY_MODEL_10a8e95604eb453db515687e72295c47"
          }
        },
        "95028d9c3feb4a45a0f0d9ab35f4190d": {
          "model_module": "@jupyter-widgets/controls",
          "model_name": "ProgressStyleModel",
          "state": {
            "_view_name": "StyleView",
            "_model_name": "ProgressStyleModel",
            "description_width": "initial",
            "_view_module": "@jupyter-widgets/base",
            "_model_module_version": "1.5.0",
            "_view_count": null,
            "_view_module_version": "1.2.0",
            "bar_color": null,
            "_model_module": "@jupyter-widgets/controls"
          }
        },
        "cb88cf3986c943ecbbeaf5f6041f9ae6": {
          "model_module": "@jupyter-widgets/base",
          "model_name": "LayoutModel",
          "state": {
            "_view_name": "LayoutView",
            "grid_template_rows": null,
            "right": null,
            "justify_content": null,
            "_view_module": "@jupyter-widgets/base",
            "overflow": null,
            "_model_module_version": "1.2.0",
            "_view_count": null,
            "flex_flow": null,
            "width": null,
            "min_width": null,
            "border": null,
            "align_items": null,
            "bottom": null,
            "_model_module": "@jupyter-widgets/base",
            "top": null,
            "grid_column": null,
            "overflow_y": null,
            "overflow_x": null,
            "grid_auto_flow": null,
            "grid_area": null,
            "grid_template_columns": null,
            "flex": null,
            "_model_name": "LayoutModel",
            "justify_items": null,
            "grid_row": null,
            "max_height": null,
            "align_content": null,
            "visibility": null,
            "align_self": null,
            "height": null,
            "min_height": null,
            "padding": null,
            "grid_auto_rows": null,
            "grid_gap": null,
            "max_width": null,
            "order": null,
            "_view_module_version": "1.2.0",
            "grid_template_areas": null,
            "object_position": null,
            "object_fit": null,
            "grid_auto_columns": null,
            "margin": null,
            "display": null,
            "left": null
          }
        },
        "d3cbf94b91594759999f7ef7c2ab4381": {
          "model_module": "@jupyter-widgets/controls",
          "model_name": "DescriptionStyleModel",
          "state": {
            "_view_name": "StyleView",
            "_model_name": "DescriptionStyleModel",
            "description_width": "",
            "_view_module": "@jupyter-widgets/base",
            "_model_module_version": "1.5.0",
            "_view_count": null,
            "_view_module_version": "1.2.0",
            "_model_module": "@jupyter-widgets/controls"
          }
        },
        "10a8e95604eb453db515687e72295c47": {
          "model_module": "@jupyter-widgets/base",
          "model_name": "LayoutModel",
          "state": {
            "_view_name": "LayoutView",
            "grid_template_rows": null,
            "right": null,
            "justify_content": null,
            "_view_module": "@jupyter-widgets/base",
            "overflow": null,
            "_model_module_version": "1.2.0",
            "_view_count": null,
            "flex_flow": null,
            "width": null,
            "min_width": null,
            "border": null,
            "align_items": null,
            "bottom": null,
            "_model_module": "@jupyter-widgets/base",
            "top": null,
            "grid_column": null,
            "overflow_y": null,
            "overflow_x": null,
            "grid_auto_flow": null,
            "grid_area": null,
            "grid_template_columns": null,
            "flex": null,
            "_model_name": "LayoutModel",
            "justify_items": null,
            "grid_row": null,
            "max_height": null,
            "align_content": null,
            "visibility": null,
            "align_self": null,
            "height": null,
            "min_height": null,
            "padding": null,
            "grid_auto_rows": null,
            "grid_gap": null,
            "max_width": null,
            "order": null,
            "_view_module_version": "1.2.0",
            "grid_template_areas": null,
            "object_position": null,
            "object_fit": null,
            "grid_auto_columns": null,
            "margin": null,
            "display": null,
            "left": null
          }
        },
        "3a5c393436c44beba25055f76e3c4a42": {
          "model_module": "@jupyter-widgets/controls",
          "model_name": "HBoxModel",
          "state": {
            "_view_name": "HBoxView",
            "_dom_classes": [],
            "_model_name": "HBoxModel",
            "_view_module": "@jupyter-widgets/controls",
            "_model_module_version": "1.5.0",
            "_view_count": null,
            "_view_module_version": "1.5.0",
            "box_style": "",
            "layout": "IPY_MODEL_1f266c54f6d84bc897304fb2726fa6aa",
            "_model_module": "@jupyter-widgets/controls",
            "children": [
              "IPY_MODEL_9bb57988fe0b499bb938d39e42d8336c",
              "IPY_MODEL_e7f09976f16e488fa607b7b2ef11b32f"
            ]
          }
        },
        "1f266c54f6d84bc897304fb2726fa6aa": {
          "model_module": "@jupyter-widgets/base",
          "model_name": "LayoutModel",
          "state": {
            "_view_name": "LayoutView",
            "grid_template_rows": null,
            "right": null,
            "justify_content": null,
            "_view_module": "@jupyter-widgets/base",
            "overflow": null,
            "_model_module_version": "1.2.0",
            "_view_count": null,
            "flex_flow": null,
            "width": null,
            "min_width": null,
            "border": null,
            "align_items": null,
            "bottom": null,
            "_model_module": "@jupyter-widgets/base",
            "top": null,
            "grid_column": null,
            "overflow_y": null,
            "overflow_x": null,
            "grid_auto_flow": null,
            "grid_area": null,
            "grid_template_columns": null,
            "flex": null,
            "_model_name": "LayoutModel",
            "justify_items": null,
            "grid_row": null,
            "max_height": null,
            "align_content": null,
            "visibility": null,
            "align_self": null,
            "height": null,
            "min_height": null,
            "padding": null,
            "grid_auto_rows": null,
            "grid_gap": null,
            "max_width": null,
            "order": null,
            "_view_module_version": "1.2.0",
            "grid_template_areas": null,
            "object_position": null,
            "object_fit": null,
            "grid_auto_columns": null,
            "margin": null,
            "display": null,
            "left": null
          }
        },
        "9bb57988fe0b499bb938d39e42d8336c": {
          "model_module": "@jupyter-widgets/controls",
          "model_name": "FloatProgressModel",
          "state": {
            "_view_name": "ProgressView",
            "style": "IPY_MODEL_20a39bbb9f4f431192bcc12d2d804b94",
            "_dom_classes": [],
            "description": "Downloading: 100%",
            "_model_name": "FloatProgressModel",
            "bar_style": "success",
            "max": 411577189,
            "_view_module": "@jupyter-widgets/controls",
            "_model_module_version": "1.5.0",
            "value": 411577189,
            "_view_count": null,
            "_view_module_version": "1.5.0",
            "orientation": "horizontal",
            "min": 0,
            "description_tooltip": null,
            "_model_module": "@jupyter-widgets/controls",
            "layout": "IPY_MODEL_06b0d8f08002446f807ac7928f218b08"
          }
        },
        "e7f09976f16e488fa607b7b2ef11b32f": {
          "model_module": "@jupyter-widgets/controls",
          "model_name": "HTMLModel",
          "state": {
            "_view_name": "HTMLView",
            "style": "IPY_MODEL_080fa1f23b7a405d858c3ab0303e1715",
            "_dom_classes": [],
            "description": "",
            "_model_name": "HTMLModel",
            "placeholder": "​",
            "_view_module": "@jupyter-widgets/controls",
            "_model_module_version": "1.5.0",
            "value": " 412M/412M [00:15&lt;00:00, 27.1MB/s]",
            "_view_count": null,
            "_view_module_version": "1.5.0",
            "description_tooltip": null,
            "_model_module": "@jupyter-widgets/controls",
            "layout": "IPY_MODEL_70aeeb6937464789856d8179a42897d7"
          }
        },
        "20a39bbb9f4f431192bcc12d2d804b94": {
          "model_module": "@jupyter-widgets/controls",
          "model_name": "ProgressStyleModel",
          "state": {
            "_view_name": "StyleView",
            "_model_name": "ProgressStyleModel",
            "description_width": "initial",
            "_view_module": "@jupyter-widgets/base",
            "_model_module_version": "1.5.0",
            "_view_count": null,
            "_view_module_version": "1.2.0",
            "bar_color": null,
            "_model_module": "@jupyter-widgets/controls"
          }
        },
        "06b0d8f08002446f807ac7928f218b08": {
          "model_module": "@jupyter-widgets/base",
          "model_name": "LayoutModel",
          "state": {
            "_view_name": "LayoutView",
            "grid_template_rows": null,
            "right": null,
            "justify_content": null,
            "_view_module": "@jupyter-widgets/base",
            "overflow": null,
            "_model_module_version": "1.2.0",
            "_view_count": null,
            "flex_flow": null,
            "width": null,
            "min_width": null,
            "border": null,
            "align_items": null,
            "bottom": null,
            "_model_module": "@jupyter-widgets/base",
            "top": null,
            "grid_column": null,
            "overflow_y": null,
            "overflow_x": null,
            "grid_auto_flow": null,
            "grid_area": null,
            "grid_template_columns": null,
            "flex": null,
            "_model_name": "LayoutModel",
            "justify_items": null,
            "grid_row": null,
            "max_height": null,
            "align_content": null,
            "visibility": null,
            "align_self": null,
            "height": null,
            "min_height": null,
            "padding": null,
            "grid_auto_rows": null,
            "grid_gap": null,
            "max_width": null,
            "order": null,
            "_view_module_version": "1.2.0",
            "grid_template_areas": null,
            "object_position": null,
            "object_fit": null,
            "grid_auto_columns": null,
            "margin": null,
            "display": null,
            "left": null
          }
        },
        "080fa1f23b7a405d858c3ab0303e1715": {
          "model_module": "@jupyter-widgets/controls",
          "model_name": "DescriptionStyleModel",
          "state": {
            "_view_name": "StyleView",
            "_model_name": "DescriptionStyleModel",
            "description_width": "",
            "_view_module": "@jupyter-widgets/base",
            "_model_module_version": "1.5.0",
            "_view_count": null,
            "_view_module_version": "1.2.0",
            "_model_module": "@jupyter-widgets/controls"
          }
        },
        "70aeeb6937464789856d8179a42897d7": {
          "model_module": "@jupyter-widgets/base",
          "model_name": "LayoutModel",
          "state": {
            "_view_name": "LayoutView",
            "grid_template_rows": null,
            "right": null,
            "justify_content": null,
            "_view_module": "@jupyter-widgets/base",
            "overflow": null,
            "_model_module_version": "1.2.0",
            "_view_count": null,
            "flex_flow": null,
            "width": null,
            "min_width": null,
            "border": null,
            "align_items": null,
            "bottom": null,
            "_model_module": "@jupyter-widgets/base",
            "top": null,
            "grid_column": null,
            "overflow_y": null,
            "overflow_x": null,
            "grid_auto_flow": null,
            "grid_area": null,
            "grid_template_columns": null,
            "flex": null,
            "_model_name": "LayoutModel",
            "justify_items": null,
            "grid_row": null,
            "max_height": null,
            "align_content": null,
            "visibility": null,
            "align_self": null,
            "height": null,
            "min_height": null,
            "padding": null,
            "grid_auto_rows": null,
            "grid_gap": null,
            "max_width": null,
            "order": null,
            "_view_module_version": "1.2.0",
            "grid_template_areas": null,
            "object_position": null,
            "object_fit": null,
            "grid_auto_columns": null,
            "margin": null,
            "display": null,
            "left": null
          }
        }
      }
    },
    "accelerator": "GPU"
  },
  "cells": [
    {
      "cell_type": "markdown",
      "metadata": {
        "id": "view-in-github",
        "colab_type": "text"
      },
      "source": [
        "<a href=\"https://colab.research.google.com/github/cornguo/colab/blob/main/BERT.ipynb\" target=\"_parent\"><img src=\"https://colab.research.google.com/assets/colab-badge.svg\" alt=\"Open In Colab\"/></a>"
      ]
    },
    {
      "cell_type": "code",
      "metadata": {
        "id": "qIJ1r8cSw2Up",
        "outputId": "c9aee509-c230-48cf-c116-1bbf8eb006df",
        "colab": {
          "base_uri": "https://localhost:8080/"
        }
      },
      "source": [
        "!pip install transformers"
      ],
      "execution_count": 4,
      "outputs": [
        {
          "output_type": "stream",
          "text": [
            "Collecting transformers\n",
            "\u001b[?25l  Downloading https://files.pythonhosted.org/packages/2c/4e/4f1ede0fd7a36278844a277f8d53c21f88f37f3754abf76a5d6224f76d4a/transformers-3.4.0-py3-none-any.whl (1.3MB)\n",
            "\r\u001b[K     |▎                               | 10kB 25.3MB/s eta 0:00:01\r\u001b[K     |▌                               | 20kB 3.1MB/s eta 0:00:01\r\u001b[K     |▉                               | 30kB 4.1MB/s eta 0:00:01\r\u001b[K     |█                               | 40kB 4.4MB/s eta 0:00:01\r\u001b[K     |█▎                              | 51kB 3.7MB/s eta 0:00:01\r\u001b[K     |█▋                              | 61kB 4.2MB/s eta 0:00:01\r\u001b[K     |█▉                              | 71kB 4.4MB/s eta 0:00:01\r\u001b[K     |██                              | 81kB 4.9MB/s eta 0:00:01\r\u001b[K     |██▍                             | 92kB 5.2MB/s eta 0:00:01\r\u001b[K     |██▋                             | 102kB 4.9MB/s eta 0:00:01\r\u001b[K     |██▉                             | 112kB 4.9MB/s eta 0:00:01\r\u001b[K     |███▏                            | 122kB 4.9MB/s eta 0:00:01\r\u001b[K     |███▍                            | 133kB 4.9MB/s eta 0:00:01\r\u001b[K     |███▋                            | 143kB 4.9MB/s eta 0:00:01\r\u001b[K     |████                            | 153kB 4.9MB/s eta 0:00:01\r\u001b[K     |████▏                           | 163kB 4.9MB/s eta 0:00:01\r\u001b[K     |████▍                           | 174kB 4.9MB/s eta 0:00:01\r\u001b[K     |████▊                           | 184kB 4.9MB/s eta 0:00:01\r\u001b[K     |█████                           | 194kB 4.9MB/s eta 0:00:01\r\u001b[K     |█████▏                          | 204kB 4.9MB/s eta 0:00:01\r\u001b[K     |█████▌                          | 215kB 4.9MB/s eta 0:00:01\r\u001b[K     |█████▊                          | 225kB 4.9MB/s eta 0:00:01\r\u001b[K     |██████                          | 235kB 4.9MB/s eta 0:00:01\r\u001b[K     |██████▎                         | 245kB 4.9MB/s eta 0:00:01\r\u001b[K     |██████▌                         | 256kB 4.9MB/s eta 0:00:01\r\u001b[K     |██████▊                         | 266kB 4.9MB/s eta 0:00:01\r\u001b[K     |███████                         | 276kB 4.9MB/s eta 0:00:01\r\u001b[K     |███████▎                        | 286kB 4.9MB/s eta 0:00:01\r\u001b[K     |███████▋                        | 296kB 4.9MB/s eta 0:00:01\r\u001b[K     |███████▉                        | 307kB 4.9MB/s eta 0:00:01\r\u001b[K     |████████                        | 317kB 4.9MB/s eta 0:00:01\r\u001b[K     |████████▍                       | 327kB 4.9MB/s eta 0:00:01\r\u001b[K     |████████▋                       | 337kB 4.9MB/s eta 0:00:01\r\u001b[K     |████████▉                       | 348kB 4.9MB/s eta 0:00:01\r\u001b[K     |█████████▏                      | 358kB 4.9MB/s eta 0:00:01\r\u001b[K     |█████████▍                      | 368kB 4.9MB/s eta 0:00:01\r\u001b[K     |█████████▋                      | 378kB 4.9MB/s eta 0:00:01\r\u001b[K     |██████████                      | 389kB 4.9MB/s eta 0:00:01\r\u001b[K     |██████████▏                     | 399kB 4.9MB/s eta 0:00:01\r\u001b[K     |██████████▍                     | 409kB 4.9MB/s eta 0:00:01\r\u001b[K     |██████████▊                     | 419kB 4.9MB/s eta 0:00:01\r\u001b[K     |███████████                     | 430kB 4.9MB/s eta 0:00:01\r\u001b[K     |███████████▏                    | 440kB 4.9MB/s eta 0:00:01\r\u001b[K     |███████████▌                    | 450kB 4.9MB/s eta 0:00:01\r\u001b[K     |███████████▊                    | 460kB 4.9MB/s eta 0:00:01\r\u001b[K     |████████████                    | 471kB 4.9MB/s eta 0:00:01\r\u001b[K     |████████████▎                   | 481kB 4.9MB/s eta 0:00:01\r\u001b[K     |████████████▌                   | 491kB 4.9MB/s eta 0:00:01\r\u001b[K     |████████████▊                   | 501kB 4.9MB/s eta 0:00:01\r\u001b[K     |█████████████                   | 512kB 4.9MB/s eta 0:00:01\r\u001b[K     |█████████████▎                  | 522kB 4.9MB/s eta 0:00:01\r\u001b[K     |█████████████▌                  | 532kB 4.9MB/s eta 0:00:01\r\u001b[K     |█████████████▉                  | 542kB 4.9MB/s eta 0:00:01\r\u001b[K     |██████████████                  | 552kB 4.9MB/s eta 0:00:01\r\u001b[K     |██████████████▍                 | 563kB 4.9MB/s eta 0:00:01\r\u001b[K     |██████████████▋                 | 573kB 4.9MB/s eta 0:00:01\r\u001b[K     |██████████████▉                 | 583kB 4.9MB/s eta 0:00:01\r\u001b[K     |███████████████▏                | 593kB 4.9MB/s eta 0:00:01\r\u001b[K     |███████████████▍                | 604kB 4.9MB/s eta 0:00:01\r\u001b[K     |███████████████▋                | 614kB 4.9MB/s eta 0:00:01\r\u001b[K     |████████████████                | 624kB 4.9MB/s eta 0:00:01\r\u001b[K     |████████████████▏               | 634kB 4.9MB/s eta 0:00:01\r\u001b[K     |████████████████▍               | 645kB 4.9MB/s eta 0:00:01\r\u001b[K     |████████████████▊               | 655kB 4.9MB/s eta 0:00:01\r\u001b[K     |█████████████████               | 665kB 4.9MB/s eta 0:00:01\r\u001b[K     |█████████████████▏              | 675kB 4.9MB/s eta 0:00:01\r\u001b[K     |█████████████████▌              | 686kB 4.9MB/s eta 0:00:01\r\u001b[K     |█████████████████▊              | 696kB 4.9MB/s eta 0:00:01\r\u001b[K     |██████████████████              | 706kB 4.9MB/s eta 0:00:01\r\u001b[K     |██████████████████▎             | 716kB 4.9MB/s eta 0:00:01\r\u001b[K     |██████████████████▌             | 727kB 4.9MB/s eta 0:00:01\r\u001b[K     |██████████████████▊             | 737kB 4.9MB/s eta 0:00:01\r\u001b[K     |███████████████████             | 747kB 4.9MB/s eta 0:00:01\r\u001b[K     |███████████████████▎            | 757kB 4.9MB/s eta 0:00:01\r\u001b[K     |███████████████████▌            | 768kB 4.9MB/s eta 0:00:01\r\u001b[K     |███████████████████▉            | 778kB 4.9MB/s eta 0:00:01\r\u001b[K     |████████████████████            | 788kB 4.9MB/s eta 0:00:01\r\u001b[K     |████████████████████▎           | 798kB 4.9MB/s eta 0:00:01\r\u001b[K     |████████████████████▋           | 808kB 4.9MB/s eta 0:00:01\r\u001b[K     |████████████████████▉           | 819kB 4.9MB/s eta 0:00:01\r\u001b[K     |█████████████████████           | 829kB 4.9MB/s eta 0:00:01\r\u001b[K     |█████████████████████▍          | 839kB 4.9MB/s eta 0:00:01\r\u001b[K     |█████████████████████▋          | 849kB 4.9MB/s eta 0:00:01\r\u001b[K     |██████████████████████          | 860kB 4.9MB/s eta 0:00:01\r\u001b[K     |██████████████████████▏         | 870kB 4.9MB/s eta 0:00:01\r\u001b[K     |██████████████████████▍         | 880kB 4.9MB/s eta 0:00:01\r\u001b[K     |██████████████████████▊         | 890kB 4.9MB/s eta 0:00:01\r\u001b[K     |███████████████████████         | 901kB 4.9MB/s eta 0:00:01\r\u001b[K     |███████████████████████▏        | 911kB 4.9MB/s eta 0:00:01\r\u001b[K     |███████████████████████▌        | 921kB 4.9MB/s eta 0:00:01\r\u001b[K     |███████████████████████▊        | 931kB 4.9MB/s eta 0:00:01\r\u001b[K     |████████████████████████        | 942kB 4.9MB/s eta 0:00:01\r\u001b[K     |████████████████████████▎       | 952kB 4.9MB/s eta 0:00:01\r\u001b[K     |████████████████████████▌       | 962kB 4.9MB/s eta 0:00:01\r\u001b[K     |████████████████████████▊       | 972kB 4.9MB/s eta 0:00:01\r\u001b[K     |█████████████████████████       | 983kB 4.9MB/s eta 0:00:01\r\u001b[K     |█████████████████████████▎      | 993kB 4.9MB/s eta 0:00:01\r\u001b[K     |█████████████████████████▌      | 1.0MB 4.9MB/s eta 0:00:01\r\u001b[K     |█████████████████████████▉      | 1.0MB 4.9MB/s eta 0:00:01\r\u001b[K     |██████████████████████████      | 1.0MB 4.9MB/s eta 0:00:01\r\u001b[K     |██████████████████████████▎     | 1.0MB 4.9MB/s eta 0:00:01\r\u001b[K     |██████████████████████████▋     | 1.0MB 4.9MB/s eta 0:00:01\r\u001b[K     |██████████████████████████▉     | 1.1MB 4.9MB/s eta 0:00:01\r\u001b[K     |███████████████████████████     | 1.1MB 4.9MB/s eta 0:00:01\r\u001b[K     |███████████████████████████▍    | 1.1MB 4.9MB/s eta 0:00:01\r\u001b[K     |███████████████████████████▋    | 1.1MB 4.9MB/s eta 0:00:01\r\u001b[K     |███████████████████████████▉    | 1.1MB 4.9MB/s eta 0:00:01\r\u001b[K     |████████████████████████████▏   | 1.1MB 4.9MB/s eta 0:00:01\r\u001b[K     |████████████████████████████▍   | 1.1MB 4.9MB/s eta 0:00:01\r\u001b[K     |████████████████████████████▊   | 1.1MB 4.9MB/s eta 0:00:01\r\u001b[K     |█████████████████████████████   | 1.1MB 4.9MB/s eta 0:00:01\r\u001b[K     |█████████████████████████████▏  | 1.1MB 4.9MB/s eta 0:00:01\r\u001b[K     |█████████████████████████████▌  | 1.2MB 4.9MB/s eta 0:00:01\r\u001b[K     |█████████████████████████████▊  | 1.2MB 4.9MB/s eta 0:00:01\r\u001b[K     |██████████████████████████████  | 1.2MB 4.9MB/s eta 0:00:01\r\u001b[K     |██████████████████████████████▎ | 1.2MB 4.9MB/s eta 0:00:01\r\u001b[K     |██████████████████████████████▌ | 1.2MB 4.9MB/s eta 0:00:01\r\u001b[K     |██████████████████████████████▊ | 1.2MB 4.9MB/s eta 0:00:01\r\u001b[K     |███████████████████████████████ | 1.2MB 4.9MB/s eta 0:00:01\r\u001b[K     |███████████████████████████████▎| 1.2MB 4.9MB/s eta 0:00:01\r\u001b[K     |███████████████████████████████▌| 1.2MB 4.9MB/s eta 0:00:01\r\u001b[K     |███████████████████████████████▉| 1.2MB 4.9MB/s eta 0:00:01\r\u001b[K     |████████████████████████████████| 1.3MB 4.9MB/s \n",
            "\u001b[?25hRequirement already satisfied: protobuf in /usr/local/lib/python3.6/dist-packages (from transformers) (3.12.4)\n",
            "Collecting tokenizers==0.9.2\n",
            "\u001b[?25l  Downloading https://files.pythonhosted.org/packages/7c/a5/78be1a55b2ac8d6a956f0a211d372726e2b1dd2666bb537fea9b03abd62c/tokenizers-0.9.2-cp36-cp36m-manylinux1_x86_64.whl (2.9MB)\n",
            "\u001b[K     |████████████████████████████████| 2.9MB 30.9MB/s \n",
            "\u001b[?25hRequirement already satisfied: packaging in /usr/local/lib/python3.6/dist-packages (from transformers) (20.4)\n",
            "Requirement already satisfied: requests in /usr/local/lib/python3.6/dist-packages (from transformers) (2.23.0)\n",
            "Requirement already satisfied: dataclasses; python_version < \"3.7\" in /usr/local/lib/python3.6/dist-packages (from transformers) (0.7)\n",
            "Collecting sentencepiece!=0.1.92\n",
            "\u001b[?25l  Downloading https://files.pythonhosted.org/packages/e5/2d/6d4ca4bef9a67070fa1cac508606328329152b1df10bdf31fb6e4e727894/sentencepiece-0.1.94-cp36-cp36m-manylinux2014_x86_64.whl (1.1MB)\n",
            "\u001b[K     |████████████████████████████████| 1.1MB 38.1MB/s \n",
            "\u001b[?25hCollecting sacremoses\n",
            "\u001b[?25l  Downloading https://files.pythonhosted.org/packages/7d/34/09d19aff26edcc8eb2a01bed8e98f13a1537005d31e95233fd48216eed10/sacremoses-0.0.43.tar.gz (883kB)\n",
            "\u001b[K     |████████████████████████████████| 890kB 54.5MB/s \n",
            "\u001b[?25hRequirement already satisfied: tqdm>=4.27 in /usr/local/lib/python3.6/dist-packages (from transformers) (4.41.1)\n",
            "Requirement already satisfied: numpy in /usr/local/lib/python3.6/dist-packages (from transformers) (1.18.5)\n",
            "Requirement already satisfied: filelock in /usr/local/lib/python3.6/dist-packages (from transformers) (3.0.12)\n",
            "Requirement already satisfied: regex!=2019.12.17 in /usr/local/lib/python3.6/dist-packages (from transformers) (2019.12.20)\n",
            "Requirement already satisfied: setuptools in /usr/local/lib/python3.6/dist-packages (from protobuf->transformers) (50.3.2)\n",
            "Requirement already satisfied: six>=1.9 in /usr/local/lib/python3.6/dist-packages (from protobuf->transformers) (1.15.0)\n",
            "Requirement already satisfied: pyparsing>=2.0.2 in /usr/local/lib/python3.6/dist-packages (from packaging->transformers) (2.4.7)\n",
            "Requirement already satisfied: chardet<4,>=3.0.2 in /usr/local/lib/python3.6/dist-packages (from requests->transformers) (3.0.4)\n",
            "Requirement already satisfied: idna<3,>=2.5 in /usr/local/lib/python3.6/dist-packages (from requests->transformers) (2.10)\n",
            "Requirement already satisfied: urllib3!=1.25.0,!=1.25.1,<1.26,>=1.21.1 in /usr/local/lib/python3.6/dist-packages (from requests->transformers) (1.24.3)\n",
            "Requirement already satisfied: certifi>=2017.4.17 in /usr/local/lib/python3.6/dist-packages (from requests->transformers) (2020.6.20)\n",
            "Requirement already satisfied: click in /usr/local/lib/python3.6/dist-packages (from sacremoses->transformers) (7.1.2)\n",
            "Requirement already satisfied: joblib in /usr/local/lib/python3.6/dist-packages (from sacremoses->transformers) (0.17.0)\n",
            "Building wheels for collected packages: sacremoses\n",
            "  Building wheel for sacremoses (setup.py) ... \u001b[?25l\u001b[?25hdone\n",
            "  Created wheel for sacremoses: filename=sacremoses-0.0.43-cp36-none-any.whl size=893257 sha256=521c345b56c9e186a2130c475dc5fb298f5c1cfa8693ccc6c51a94016ac953af\n",
            "  Stored in directory: /root/.cache/pip/wheels/29/3c/fd/7ce5c3f0666dab31a50123635e6fb5e19ceb42ce38d4e58f45\n",
            "Successfully built sacremoses\n",
            "Installing collected packages: tokenizers, sentencepiece, sacremoses, transformers\n",
            "Successfully installed sacremoses-0.0.43 sentencepiece-0.1.94 tokenizers-0.9.2 transformers-3.4.0\n"
          ],
          "name": "stdout"
        }
      ]
    },
    {
      "cell_type": "code",
      "metadata": {
        "id": "5DpsmqwHXijM"
      },
      "source": [
        "import torch\n",
        "from transformers import BertTokenizer\n",
        "from IPython.display import clear_output"
      ],
      "execution_count": 5,
      "outputs": []
    },
    {
      "cell_type": "code",
      "metadata": {
        "id": "o7UrSdZDXtgN",
        "outputId": "905341bd-0799-472e-9a5d-b9c2f58e10a5",
        "colab": {
          "base_uri": "https://localhost:8080/",
          "height": 67,
          "referenced_widgets": [
            "55cfccfd7b9c41879386c45ed483527e",
            "1abf2fcc68714222b12ee6c08e720e0f",
            "84e8221ed0ed456d856e03b0abf0d75c",
            "cdf2231329aa4c3f9e5466d88b73500c",
            "2a5eac2dbc6c4ecb8476ddc2ef5e1e1e",
            "7f3f0688f6844c449a9f1bb777a348be",
            "1c9f2135002b4c7ca5adc10dc363dc52",
            "d5f54ba39c2d4e3882412662e32a03d5"
          ]
        }
      },
      "source": [
        "PRETRAINED_MODEL_NAME = \"bert-base-chinese\"  # 指定繁簡中文 BERT-BASE 預訓練模型\n",
        "\n",
        "# 取得此預訓練模型所使用的 tokenizer\n",
        "tokenizer = BertTokenizer.from_pretrained(PRETRAINED_MODEL_NAME)"
      ],
      "execution_count": 6,
      "outputs": [
        {
          "output_type": "display_data",
          "data": {
            "application/vnd.jupyter.widget-view+json": {
              "model_id": "55cfccfd7b9c41879386c45ed483527e",
              "version_minor": 0,
              "version_major": 2
            },
            "text/plain": [
              "HBox(children=(FloatProgress(value=0.0, description='Downloading', max=109540.0, style=ProgressStyle(descripti…"
            ]
          },
          "metadata": {
            "tags": []
          }
        },
        {
          "output_type": "stream",
          "text": [
            "\n"
          ],
          "name": "stdout"
        }
      ]
    },
    {
      "cell_type": "code",
      "metadata": {
        "id": "kp2SgBFTppDj",
        "outputId": "adcbb0b8-f6da-4437-dd99-39d23d04fa95",
        "colab": {
          "base_uri": "https://localhost:8080/"
        }
      },
      "source": [
        "!wget https://raw.githubusercontent.com/cornguo/colab/main/news.zip\n",
        "!unzip news.zip"
      ],
      "execution_count": 7,
      "outputs": [
        {
          "output_type": "stream",
          "text": [
            "--2020-11-08 18:47:35--  https://raw.githubusercontent.com/cornguo/colab/main/news.zip\n",
            "Resolving raw.githubusercontent.com (raw.githubusercontent.com)... 151.101.0.133, 151.101.64.133, 151.101.128.133, ...\n",
            "Connecting to raw.githubusercontent.com (raw.githubusercontent.com)|151.101.0.133|:443... connected.\n",
            "HTTP request sent, awaiting response... 200 OK\n",
            "Length: 404812 (395K) [application/zip]\n",
            "Saving to: ‘news.zip.1’\n",
            "\n",
            "\rnews.zip.1            0%[                    ]       0  --.-KB/s               \rnews.zip.1          100%[===================>] 395.32K  --.-KB/s    in 0.04s   \n",
            "\n",
            "2020-11-08 18:47:35 (10.9 MB/s) - ‘news.zip.1’ saved [404812/404812]\n",
            "\n",
            "Archive:  news.zip\n",
            "replace news/test.csv? [y]es, [n]o, [A]ll, [N]one, [r]ename: a\n",
            "error:  invalid response [a]\n",
            "replace news/test.csv? [y]es, [n]o, [A]ll, [N]one, [r]ename: A\n",
            "  inflating: news/test.csv           \n",
            "  inflating: news/train.csv          \n",
            "  inflating: news/valid.csv          \n"
          ],
          "name": "stdout"
        }
      ]
    },
    {
      "cell_type": "code",
      "metadata": {
        "id": "Ai4aifAlqaZZ",
        "outputId": "1f82730e-1f94-41df-a8b9-abd916de444d",
        "colab": {
          "base_uri": "https://localhost:8080/",
          "height": 219
        }
      },
      "source": [
        "\"\"\"\n",
        "前處理原始的訓練數據集。\n",
        "你不需了解細節，只需要看註解了解邏輯或是輸出的數據格式即可\n",
        "\"\"\"\n",
        "import os\n",
        "import pandas as pd\n",
        "\n",
        "\n",
        "# 簡單的數據清理，去除空白標題的 examples\n",
        "df_train = pd.read_csv(\"/content/news/train.csv\")\n",
        "df_train = df_train[['text', 'keyword']]\n",
        "\n",
        "# 剔除過長的樣本以避免 BERT 無法將整個輸入序列放入記憶體不多的 GPU\n",
        "MAX_LENGTH = 250\n",
        "df_train['text'] = df_train['text'].apply(lambda x: x[:MAX_LENGTH])\n",
        "\n",
        "# 去除不必要的欄位並重新命名兩標題的欄位名\n",
        "df_train = df_train.reset_index()\n",
        "df_train = df_train.loc[:, ['text', 'keyword']]\n",
        "\n",
        "# idempotence, 將處理結果另存成 tsv 供 PyTorch 使用\n",
        "df_train.to_csv(\"train_news.tsv\", sep=\"\\t\", index=False)\n",
        "\n",
        "print(\"訓練樣本數：\", len(df_train))\n",
        "df_train.head()"
      ],
      "execution_count": 8,
      "outputs": [
        {
          "output_type": "stream",
          "text": [
            "訓練樣本數： 282\n"
          ],
          "name": "stdout"
        },
        {
          "output_type": "execute_result",
          "data": {
            "text/html": [
              "<div>\n",
              "<style scoped>\n",
              "    .dataframe tbody tr th:only-of-type {\n",
              "        vertical-align: middle;\n",
              "    }\n",
              "\n",
              "    .dataframe tbody tr th {\n",
              "        vertical-align: top;\n",
              "    }\n",
              "\n",
              "    .dataframe thead th {\n",
              "        text-align: right;\n",
              "    }\n",
              "</style>\n",
              "<table border=\"1\" class=\"dataframe\">\n",
              "  <thead>\n",
              "    <tr style=\"text-align: right;\">\n",
              "      <th></th>\n",
              "      <th>text</th>\n",
              "      <th>keyword</th>\n",
              "    </tr>\n",
              "  </thead>\n",
              "  <tbody>\n",
              "    <tr>\n",
              "      <th>0</th>\n",
              "      <td>又有從台北飛曼谷班機旅客發燒，疫情指揮中心發言人莊人祥今天說，目前掌握9名泰國旅客到泰國後有...</td>\n",
              "      <td>疫情</td>\n",
              "    </tr>\n",
              "    <tr>\n",
              "      <th>1</th>\n",
              "      <td>根據調查，退休準備的年齡從2016年的43.29歲降至今年(2020年)的37.87歲，下修...</td>\n",
              "      <td>投資</td>\n",
              "    </tr>\n",
              "    <tr>\n",
              "      <th>2</th>\n",
              "      <td>今（21）日為三倍券上路第7天，根據經濟部統計，截至16點止，目前已經累積1225.8萬人領...</td>\n",
              "      <td>三倍券</td>\n",
              "    </tr>\n",
              "    <tr>\n",
              "      <th>3</th>\n",
              "      <td>針對有媒體報導，台北市長柯文哲動支第二預備金買下國民黨南港民服社1.21坪，遭質疑獨厚國民黨...</td>\n",
              "      <td>政治</td>\n",
              "    </tr>\n",
              "    <tr>\n",
              "      <th>4</th>\n",
              "      <td>午後對流發展旺盛，易有短時強降雨，今（21）日南部、南投地區及嘉義、雲林山區有局部大雨發生的...</td>\n",
              "      <td>天氣</td>\n",
              "    </tr>\n",
              "  </tbody>\n",
              "</table>\n",
              "</div>"
            ],
            "text/plain": [
              "                                                text keyword\n",
              "0  又有從台北飛曼谷班機旅客發燒，疫情指揮中心發言人莊人祥今天說，目前掌握9名泰國旅客到泰國後有...      疫情\n",
              "1  根據調查，退休準備的年齡從2016年的43.29歲降至今年(2020年)的37.87歲，下修...      投資\n",
              "2  今（21）日為三倍券上路第7天，根據經濟部統計，截至16點止，目前已經累積1225.8萬人領...     三倍券\n",
              "3  針對有媒體報導，台北市長柯文哲動支第二預備金買下國民黨南港民服社1.21坪，遭質疑獨厚國民黨...      政治\n",
              "4  午後對流發展旺盛，易有短時強降雨，今（21）日南部、南投地區及嘉義、雲林山區有局部大雨發生的...      天氣"
            ]
          },
          "metadata": {
            "tags": []
          },
          "execution_count": 8
        }
      ]
    },
    {
      "cell_type": "code",
      "metadata": {
        "id": "9sS4ImYL7JzR",
        "outputId": "9aa988bf-ab27-41fc-abb6-1ef4de480080",
        "colab": {
          "base_uri": "https://localhost:8080/"
        }
      },
      "source": [
        "df_train.keyword.value_counts() / len(df_train)"
      ],
      "execution_count": 9,
      "outputs": [
        {
          "output_type": "execute_result",
          "data": {
            "text/plain": [
              "社會新聞    0.443262\n",
              "政治      0.226950\n",
              "疫情      0.102837\n",
              "名人      0.067376\n",
              "三倍券     0.046099\n",
              "生活      0.042553\n",
              "車       0.028369\n",
              "投資      0.021277\n",
              "天氣      0.017730\n",
              "大自然     0.003546\n",
              "Name: keyword, dtype: float64"
            ]
          },
          "metadata": {
            "tags": []
          },
          "execution_count": 9
        }
      ]
    },
    {
      "cell_type": "code",
      "metadata": {
        "id": "Pfd7o8GFq7MA",
        "outputId": "f4c7698d-51ce-49ae-8f02-4b28e22cae3a",
        "colab": {
          "base_uri": "https://localhost:8080/",
          "height": 219
        }
      },
      "source": [
        "df_test = pd.read_csv(\"/content/news/valid.csv\")\n",
        "df_test = df_test.loc[:, [\"text\",'id']]\n",
        "\n",
        "# 剔除過長的樣本以避免 BERT 無法將整個輸入序列放入記憶體不多的 GPU\n",
        "MAX_LENGTH = 250\n",
        "df_test['text'] = df_test['text'].apply(lambda x: x[:MAX_LENGTH])\n",
        "\n",
        "df_test.to_csv(\"test_news.tsv\", sep=\"\\t\", index=False)\n",
        "\n",
        "print(\"預測樣本數：\", len(df_test))\n",
        "df_test.head()"
      ],
      "execution_count": 10,
      "outputs": [
        {
          "output_type": "stream",
          "text": [
            "預測樣本數： 18\n"
          ],
          "name": "stdout"
        },
        {
          "output_type": "execute_result",
          "data": {
            "text/html": [
              "<div>\n",
              "<style scoped>\n",
              "    .dataframe tbody tr th:only-of-type {\n",
              "        vertical-align: middle;\n",
              "    }\n",
              "\n",
              "    .dataframe tbody tr th {\n",
              "        vertical-align: top;\n",
              "    }\n",
              "\n",
              "    .dataframe thead th {\n",
              "        text-align: right;\n",
              "    }\n",
              "</style>\n",
              "<table border=\"1\" class=\"dataframe\">\n",
              "  <thead>\n",
              "    <tr style=\"text-align: right;\">\n",
              "      <th></th>\n",
              "      <th>text</th>\n",
              "      <th>id</th>\n",
              "    </tr>\n",
              "  </thead>\n",
              "  <tbody>\n",
              "    <tr>\n",
              "      <th>0</th>\n",
              "      <td>台灣今年夏天相當炎熱，屢創歷史紀錄，冷氣開幾度最舒適成為民眾關心焦點。有網友透露，自己剛開冷...</td>\n",
              "      <td>283</td>\n",
              "    </tr>\n",
              "    <tr>\n",
              "      <th>1</th>\n",
              "      <td>立法院臨時會三讀通過「國民法官法」，民進黨立委在多數優勢下，花了三天兩夜進行113條的審查和...</td>\n",
              "      <td>284</td>\n",
              "    </tr>\n",
              "    <tr>\n",
              "      <th>2</th>\n",
              "      <td>新北市新莊重新堤外道，21日晚間發生一起死亡車禍，一名56歲保全騎車要去跟朋友聚餐，卻遭到一...</td>\n",
              "      <td>285</td>\n",
              "    </tr>\n",
              "    <tr>\n",
              "      <th>3</th>\n",
              "      <td>凌晨12點多，台北市內湖一名許姓男子在住家門口和朋友聊天，突然看到三台轎車朝他開過來，發覺不...</td>\n",
              "      <td>286</td>\n",
              "    </tr>\n",
              "    <tr>\n",
              "      <th>4</th>\n",
              "      <td>日本厚生勞動省已批准將廉價、廣為使用的類固醇藥物「地塞米松」，作為2019冠狀病毒疾病（CO...</td>\n",
              "      <td>287</td>\n",
              "    </tr>\n",
              "  </tbody>\n",
              "</table>\n",
              "</div>"
            ],
            "text/plain": [
              "                                                text   id\n",
              "0  台灣今年夏天相當炎熱，屢創歷史紀錄，冷氣開幾度最舒適成為民眾關心焦點。有網友透露，自己剛開冷...  283\n",
              "1  立法院臨時會三讀通過「國民法官法」，民進黨立委在多數優勢下，花了三天兩夜進行113條的審查和...  284\n",
              "2  新北市新莊重新堤外道，21日晚間發生一起死亡車禍，一名56歲保全騎車要去跟朋友聚餐，卻遭到一...  285\n",
              "3  凌晨12點多，台北市內湖一名許姓男子在住家門口和朋友聊天，突然看到三台轎車朝他開過來，發覺不...  286\n",
              "4  日本厚生勞動省已批准將廉價、廣為使用的類固醇藥物「地塞米松」，作為2019冠狀病毒疾病（CO...  287"
            ]
          },
          "metadata": {
            "tags": []
          },
          "execution_count": 10
        }
      ]
    },
    {
      "cell_type": "code",
      "metadata": {
        "id": "CsYeFc_er6LL",
        "outputId": "5af12d70-9e6d-455a-f9c1-13096d724206",
        "colab": {
          "base_uri": "https://localhost:8080/"
        }
      },
      "source": [
        "len(df_test.iloc[3,].text)"
      ],
      "execution_count": 11,
      "outputs": [
        {
          "output_type": "execute_result",
          "data": {
            "text/plain": [
              "250"
            ]
          },
          "metadata": {
            "tags": []
          },
          "execution_count": 11
        }
      ]
    },
    {
      "cell_type": "code",
      "metadata": {
        "id": "DA8EHXb7tQwt"
      },
      "source": [
        "\"\"\"\n",
        "實作一個可以用來讀取訓練 / 測試集的 Dataset，這是你需要徹底了解的部分。\n",
        "此 Dataset 每次將 tsv 裡的一筆成對句子轉換成 BERT 相容的格式，並回傳 3 個 tensors：\n",
        "- tokens_tensor：兩個句子合併後的索引序列，包含 [CLS] 與 [SEP]\n",
        "- segments_tensor：可以用來識別兩個句子界限的 binary tensor\n",
        "- label_tensor：將分類標籤轉換成類別索引的 tensor, 如果是測試集則回傳 None\n",
        "\"\"\"\n",
        "from torch.utils.data import Dataset\n",
        " \n",
        "    \n",
        "class NewsDataset(Dataset):\n",
        "    # 讀取前處理後的 tsv 檔並初始化一些參數\n",
        "    def __init__(self, mode, tokenizer):\n",
        "        assert mode in [\"train_news\", \"test_news\"]  # 一般訓練你會需要 dev set\n",
        "        self.mode = mode\n",
        "        # 大數據你會需要用 iterator=True\n",
        "        self.df = pd.read_csv(mode + \".tsv\", sep=\"\\t\").fillna(\"\")\n",
        "        self.len = len(self.df)\n",
        "        self.label_map = {'疫情': 0, '投資': 1, '三倍券': 2, '政治': 3, '天氣': 4, '大自然': 5, '社會新聞': 6, '生活': 7, '名人': 8, '車': 9}\n",
        "        self.tokenizer = tokenizer  # 我們將使用 BERT tokenizer\n",
        "    \n",
        "    # 定義回傳一筆訓練 / 測試數據的函式\n",
        "    def __getitem__(self, idx):\n",
        "        if self.mode == \"test_news\":\n",
        "            #text= self.df.iloc[idx, 0].values\n",
        "            text= self.df.iloc[idx, 0]\n",
        "            label_tensor = None\n",
        "        else:\n",
        "            text, label = self.df.iloc[idx, :].values\n",
        "            # 將 label 文字也轉換成索引方便轉換成 tensor\n",
        "            label_id = self.label_map[label]\n",
        "            label_tensor = torch.tensor(label_id)\n",
        "            \n",
        "        # 建立第一個句子的 BERT tokens 並加入分隔符號 [SEP]\n",
        "        word_pieces = [\"[CLS]\"]\n",
        "        tokens = self.tokenizer.tokenize(text)\n",
        "        word_pieces += tokens + [\"[SEP]\"]\n",
        "        len_a = len(word_pieces)\n",
        "        \n",
        "        # 將整個 token 序列轉換成索引序列\n",
        "        ids = self.tokenizer.convert_tokens_to_ids(word_pieces)\n",
        "        tokens_tensor = torch.tensor(ids)\n",
        "        \n",
        "        # 將第一句包含 [SEP] 的 token 位置設為 0，其他為 1 表示第二句\n",
        "        segments_tensor = torch.tensor([0] * len_a, \n",
        "                                        dtype=torch.long)\n",
        "        \n",
        "        return (tokens_tensor, segments_tensor, label_tensor)\n",
        "    \n",
        "    def __len__(self):\n",
        "        return self.len\n",
        "    \n",
        "    \n",
        "# 初始化一個專門讀取訓練樣本的 Dataset，使用中文 BERT 斷詞\n",
        "trainset = NewsDataset(\"train_news\", tokenizer=tokenizer)"
      ],
      "execution_count": 12,
      "outputs": []
    },
    {
      "cell_type": "code",
      "metadata": {
        "id": "6HHI8j28tSJe",
        "outputId": "0ff270f4-c19f-45fa-b52f-066cce0995d9",
        "colab": {
          "base_uri": "https://localhost:8080/"
        }
      },
      "source": [
        "# 選擇第一個樣本\n",
        "sample_idx = 5\n",
        "\n",
        "# 將原始文本拿出做比較\n",
        "text, label = trainset.df.iloc[sample_idx].values\n",
        "\n",
        "# 利用剛剛建立的 Dataset 取出轉換後的 id tensors\n",
        "tokens_tensor, segments_tensor, label_tensor = trainset[sample_idx]\n",
        "\n",
        "# 將 tokens_tensor 還原成文本\n",
        "tokens = tokenizer.convert_ids_to_tokens(tokens_tensor.tolist())\n",
        "combined_text = \"\".join(tokens)\n",
        "\n",
        "# 渲染前後差異，毫無反應就是個 print。可以直接看輸出結果\n",
        "print(f\"\"\"[原始文本]\n",
        "句子：{text}\n",
        "分類：{label}\n",
        "\"\"\")"
      ],
      "execution_count": 13,
      "outputs": [
        {
          "output_type": "stream",
          "text": [
            "[原始文本]\n",
            "句子：新海研1號今天交船，台灣大氣與海洋研究再添生力軍。台大海研所所長詹森表示，規劃年底首航關島，1年內裝設大氣觀測雷達，讓新海1升級為國際級海研船。「新海研1號」由科技部委託台灣國際造船公司設計建造，歷時1年多，今天在台船基隆廠舉辦交船典禮，取代已服役34年的「海研一號」，將專注在大氣與海洋研究。新海1總噸位2155噸，可乘載47人，具備超過40天油水及食物的遠洋研究能力。新海研1號將由現有海洋研究船的管理營運學校台灣大學繼續管理營運。負責新海1營運的台大海研所所長詹森表示，新海1造價新台幣6億多，\n",
            "分類：大自然\n",
            "\n"
          ],
          "name": "stdout"
        }
      ]
    },
    {
      "cell_type": "code",
      "metadata": {
        "id": "1mAeRMGKtULp"
      },
      "source": [
        "\"\"\"\n",
        "實作可以一次回傳一個 mini-batch 的 DataLoader\n",
        "這個 DataLoader 吃我們上面定義的 `NewsDataset`，\n",
        "回傳訓練 BERT 時會需要的 4 個 tensors：\n",
        "- tokens_tensors  : (batch_size, max_seq_len_in_batch)\n",
        "- segments_tensors: (batch_size, max_seq_len_in_batch)\n",
        "- masks_tensors   : (batch_size, max_seq_len_in_batch)\n",
        "- label_ids       : (batch_size)\n",
        "\"\"\"\n",
        "\n",
        "from torch.utils.data import DataLoader\n",
        "from torch.nn.utils.rnn import pad_sequence\n",
        "\n",
        "# 這個函式的輸入 `samples` 是一個 list，裡頭的每個 element 都是\n",
        "# 剛剛定義的 `NewsDataset` 回傳的一個樣本，每個樣本都包含 3 tensors：\n",
        "# - tokens_tensor\n",
        "# - segments_tensor\n",
        "# - label_tensor\n",
        "# 它會對前兩個 tensors 作 zero padding，並產生前面說明過的 masks_tensors\n",
        "def create_mini_batch(samples):\n",
        "    tokens_tensors = [s[0] for s in samples]\n",
        "    segments_tensors = [s[1] for s in samples]\n",
        "    \n",
        "    # 測試集有 labels\n",
        "    if samples[0][2] is not None:\n",
        "        label_ids = torch.stack([s[2] for s in samples])\n",
        "    else:\n",
        "        label_ids = None\n",
        "    \n",
        "    # zero pad 到同一序列長度\n",
        "    tokens_tensors = pad_sequence(tokens_tensors, \n",
        "                                  batch_first=True)\n",
        "    segments_tensors = pad_sequence(segments_tensors, \n",
        "                                    batch_first=True)\n",
        "    \n",
        "    # attention masks，將 tokens_tensors 裡頭不為 zero padding\n",
        "    # 的位置設為 1 讓 BERT 只關注這些位置的 tokens\n",
        "    masks_tensors = torch.zeros(tokens_tensors.shape, \n",
        "                                dtype=torch.long)\n",
        "    masks_tensors = masks_tensors.masked_fill(\n",
        "        tokens_tensors != 0, 1)\n",
        "    \n",
        "    return tokens_tensors, segments_tensors, masks_tensors, label_ids\n",
        "\n",
        "\n",
        "# 初始化一個每次回傳 64 個訓練樣本的 DataLoader\n",
        "# 利用 `collate_fn` 將 list of samples 合併成一個 mini-batch 是關鍵\n",
        "BATCH_SIZE = 8\n",
        "trainloader = DataLoader(trainset, batch_size=BATCH_SIZE, \n",
        "                         collate_fn=create_mini_batch)"
      ],
      "execution_count": 14,
      "outputs": []
    },
    {
      "cell_type": "code",
      "metadata": {
        "id": "axp1Sn0EtV7B"
      },
      "source": [
        "data = next(iter(trainloader))\n",
        "\n",
        "tokens_tensors, segments_tensors, \\\n",
        "    masks_tensors, label_ids = data\n"
      ],
      "execution_count": 15,
      "outputs": []
    },
    {
      "cell_type": "code",
      "metadata": {
        "id": "lMs0UPxotXXe",
        "outputId": "307dd2c7-45b1-485d-f39c-72d29cd8dadd",
        "colab": {
          "base_uri": "https://localhost:8080/",
          "height": 223,
          "referenced_widgets": [
            "40ca2adb234d4f5f82fce33505c1844c",
            "17aa0e07d90f43e2af2dc0d9ce90c67d",
            "8dfc2813d63e4ae9b961ffe91ea98e3e",
            "64297de5517942a49658ba1347e99ed9",
            "95028d9c3feb4a45a0f0d9ab35f4190d",
            "cb88cf3986c943ecbbeaf5f6041f9ae6",
            "d3cbf94b91594759999f7ef7c2ab4381",
            "10a8e95604eb453db515687e72295c47",
            "3a5c393436c44beba25055f76e3c4a42",
            "1f266c54f6d84bc897304fb2726fa6aa",
            "9bb57988fe0b499bb938d39e42d8336c",
            "e7f09976f16e488fa607b7b2ef11b32f",
            "20a39bbb9f4f431192bcc12d2d804b94",
            "06b0d8f08002446f807ac7928f218b08",
            "080fa1f23b7a405d858c3ab0303e1715",
            "70aeeb6937464789856d8179a42897d7"
          ]
        }
      },
      "source": [
        "# 載入一個可以做中文多分類任務的模型，n_class = 10\n",
        "from transformers import BertForSequenceClassification\n",
        "\n",
        "NUM_LABELS = 10\n",
        "\n",
        "model = BertForSequenceClassification.from_pretrained(\n",
        "    PRETRAINED_MODEL_NAME, num_labels=NUM_LABELS)\n",
        "\n",
        "clear_output()\n",
        "\n",
        "# high-level 顯示此模型裡的 modules\n",
        "print(\"\"\"\n",
        "name            module\n",
        "----------------------\"\"\")\n",
        "for name, module in model.named_children():\n",
        "    if name == \"bert\":\n",
        "        for n, _ in module.named_children():\n",
        "            print(f\"{name}:{n}\")\n",
        "    else:\n",
        "        print(\"{:15} {}\".format(name, module))"
      ],
      "execution_count": 16,
      "outputs": [
        {
          "output_type": "stream",
          "text": [
            "\n",
            "name            module\n",
            "----------------------\n",
            "bert:embeddings\n",
            "bert:encoder\n",
            "bert:pooler\n",
            "dropout         Dropout(p=0.1, inplace=False)\n",
            "classifier      Linear(in_features=768, out_features=10, bias=True)\n"
          ],
          "name": "stdout"
        }
      ]
    },
    {
      "cell_type": "code",
      "metadata": {
        "id": "f1N2iZAXtY_i",
        "outputId": "f769c85a-9ab5-45d9-b007-21e839f3aadb",
        "colab": {
          "base_uri": "https://localhost:8080/"
        }
      },
      "source": [
        "\"\"\"\n",
        "定義一個可以針對特定 DataLoader 取得模型預測結果以及分類準確度的函式\n",
        "之後也可以用來生成上傳到 Kaggle 競賽的預測結果\n",
        "\n",
        "2019/11/22 更新：在將 `tokens`、`segments_tensors` 等 tensors\n",
        "丟入模型時，強力建議指定每個 tensor 對應的參數名稱，以避免 HuggingFace\n",
        "更新 repo 程式碼並改變參數順序時影響到我們的結果。\n",
        "\"\"\"\n",
        "\n",
        "def get_predictions(model, dataloader, compute_acc=False):\n",
        "    predictions = None\n",
        "    correct = 0\n",
        "    total = 0\n",
        "      \n",
        "    with torch.no_grad():\n",
        "        # 遍巡整個資料集\n",
        "        for data in dataloader:\n",
        "            # 將所有 tensors 移到 GPU 上\n",
        "            if next(model.parameters()).is_cuda:\n",
        "                data = [t.to(\"cuda:0\") for t in data if t is not None]\n",
        "            \n",
        "            \n",
        "            # 別忘記前 3 個 tensors 分別為 tokens, segments 以及 masks\n",
        "            # 且強烈建議在將這些 tensors 丟入 `model` 時指定對應的參數名稱\n",
        "            tokens_tensors, segments_tensors, masks_tensors = data[:3]\n",
        "            outputs = model(input_ids=tokens_tensors, \n",
        "                            token_type_ids=segments_tensors, \n",
        "                            attention_mask=masks_tensors)\n",
        "            \n",
        "            logits = outputs[0]\n",
        "            _, pred = torch.max(logits.data, 1)\n",
        "            \n",
        "            # 用來計算訓練集的分類準確率\n",
        "            if compute_acc:\n",
        "                labels = data[3]\n",
        "                total += labels.size(0)\n",
        "                correct += (pred == labels).sum().item()\n",
        "                \n",
        "            # 將當前 batch 記錄下來\n",
        "            if predictions is None:\n",
        "                predictions = pred\n",
        "            else:\n",
        "                predictions = torch.cat((predictions, pred))\n",
        "    \n",
        "    if compute_acc:\n",
        "        acc = correct / total\n",
        "        return predictions, acc\n",
        "    return predictions\n",
        "    \n",
        "# 讓模型跑在 GPU 上並取得訓練集的分類準確率\n",
        "device = torch.device(\"cuda:0\" if torch.cuda.is_available() else \"cpu\")\n",
        "print(\"device:\", device)\n",
        "model = model.to(device)\n",
        "_, acc = get_predictions(model, trainloader, compute_acc=True)\n",
        "print(\"classification acc:\", acc)"
      ],
      "execution_count": 17,
      "outputs": [
        {
          "output_type": "stream",
          "text": [
            "device: cuda:0\n",
            "classification acc: 0.04609929078014184\n"
          ],
          "name": "stdout"
        }
      ]
    },
    {
      "cell_type": "code",
      "metadata": {
        "id": "OTwq3W_ntadg",
        "outputId": "b8dac602-78dd-46da-c1f0-868f16c5406e",
        "colab": {
          "base_uri": "https://localhost:8080/"
        }
      },
      "source": [
        "def get_learnable_params(module):\n",
        "    return [p for p in module.parameters() if p.requires_grad]\n",
        "     \n",
        "model_params = get_learnable_params(model)\n",
        "clf_params = get_learnable_params(model.classifier)\n",
        "\n",
        "print(f\"\"\"\n",
        "整個分類模型的參數量：{sum(p.numel() for p in model_params)}\n",
        "線性分類器的參數量：{sum(p.numel() for p in clf_params)}\n",
        "\"\"\")"
      ],
      "execution_count": 18,
      "outputs": [
        {
          "output_type": "stream",
          "text": [
            "\n",
            "整個分類模型的參數量：102275338\n",
            "線性分類器的參數量：7690\n",
            "\n"
          ],
          "name": "stdout"
        }
      ]
    },
    {
      "cell_type": "code",
      "metadata": {
        "id": "BOfPeGDuwWr9",
        "outputId": "1238b391-abf9-4941-95d4-dd981a94a4d4",
        "colab": {
          "base_uri": "https://localhost:8080/"
        }
      },
      "source": [
        "%%time\n",
        "\n",
        "# 訓練模式\n",
        "model.train()\n",
        "\n",
        "# 使用 Adam Optim 更新整個分類模型的參數\n",
        "optimizer = torch.optim.Adam(model.parameters(), lr=1e-5)\n",
        "\n",
        "\n",
        "EPOCHS = 5  # 幸運數字\n",
        "for epoch in range(EPOCHS):\n",
        "    \n",
        "    running_loss = 0.0\n",
        "    for data in trainloader:\n",
        "        \n",
        "        tokens_tensors, segments_tensors, \\\n",
        "        masks_tensors, labels = [t.to(device) for t in data]\n",
        "\n",
        "        # 將參數梯度歸零\n",
        "        optimizer.zero_grad()\n",
        "        \n",
        "        # forward pass\n",
        "        outputs = model(input_ids=tokens_tensors, \n",
        "                        token_type_ids=segments_tensors, \n",
        "                        attention_mask=masks_tensors, \n",
        "                        labels=labels)\n",
        "\n",
        "        loss = outputs[0]\n",
        "        # backward\n",
        "        loss.backward()\n",
        "        optimizer.step()\n",
        "\n",
        "\n",
        "        # 紀錄當前 batch loss\n",
        "        running_loss += loss.item()\n",
        "        \n",
        "    # 計算分類準確率\n",
        "    _, acc = get_predictions(model, trainloader, compute_acc=True)\n",
        "\n",
        "    print('[epoch %d] loss: %.3f, acc: %.3f' %\n",
        "          (epoch + 1, running_loss, acc))"
      ],
      "execution_count": 19,
      "outputs": [
        {
          "output_type": "stream",
          "text": [
            "[epoch 1] loss: 69.444, acc: 0.518\n",
            "[epoch 2] loss: 47.230, acc: 0.677\n",
            "[epoch 3] loss: 33.574, acc: 0.840\n",
            "[epoch 4] loss: 22.532, acc: 0.915\n",
            "[epoch 5] loss: 15.812, acc: 0.947\n",
            "CPU times: user 1min, sys: 39.4 s, total: 1min 40s\n",
            "Wall time: 1min 40s\n"
          ],
          "name": "stdout"
        }
      ]
    },
    {
      "cell_type": "code",
      "metadata": {
        "id": "tZg2OM8dwYFZ",
        "outputId": "75223937-4869-463c-e28a-08787e4cb401",
        "colab": {
          "base_uri": "https://localhost:8080/"
        }
      },
      "source": [
        "%%time\n",
        "# 建立測試集。這邊我們可以用跟訓練時不同的 batch_size，看你 GPU 多大\n",
        "testset = NewsDataset(\"test_news\", tokenizer=tokenizer)\n",
        "testloader = DataLoader(testset, batch_size=8, \n",
        "                        collate_fn=create_mini_batch)\n",
        "\n",
        "# 用分類模型預測測試集\n",
        "predictions = get_predictions(model, testloader)\n",
        "\n",
        "# 用來將預測的 label id 轉回 label 文字\n",
        "index_map = {v: k for k, v in testset.label_map.items()}\n",
        "\n",
        "# 生成 Kaggle 繳交檔案\n",
        "df = pd.DataFrame({\"Category\": predictions.tolist()})\n",
        "df['Category'] = df.Category.apply(lambda x: index_map[x])\n",
        "df_pred = pd.concat([testset.df.loc[:, [\"id\"]], \n",
        "                          df.loc[:, 'Category']], axis=1)\n",
        "df_pred.to_csv('bert_1_prec_training_samples.csv', index=False)\n",
        "df_pred.head()"
      ],
      "execution_count": 34,
      "outputs": [
        {
          "output_type": "stream",
          "text": [
            "CPU times: user 243 ms, sys: 133 ms, total: 376 ms\n",
            "Wall time: 377 ms\n"
          ],
          "name": "stdout"
        }
      ]
    },
    {
      "cell_type": "code",
      "metadata": {
        "id": "PMRQTyPzwaoH",
        "outputId": "12fc294b-aba1-46f1-eb48-d3b3427db193",
        "colab": {
          "base_uri": "https://localhost:8080/"
        }
      },
      "source": [
        "valid = pd.read_csv(\"/content/news/valid.csv\")\n",
        "df_pred.merge(valid, on=['id'])\n",
        "df_pred.to_csv('pred.csv', index=False, encoding='utf-8-sig')\n",
        "\n",
        "!cat pred.csv"
      ],
      "execution_count": 35,
      "outputs": [
        {
          "output_type": "stream",
          "text": [
            "﻿id,Category\n",
            "283,社會新聞\n",
            "284,政治\n",
            "285,社會新聞\n",
            "286,社會新聞\n",
            "287,社會新聞\n",
            "288,名人\n",
            "289,社會新聞\n",
            "290,政治\n",
            "291,天氣\n",
            "292,政治\n",
            "293,社會新聞\n",
            "294,政治\n",
            "295,名人\n",
            "296,政治\n",
            "297,社會新聞\n",
            "298,社會新聞\n",
            "299,政治\n",
            "300,疫情\n"
          ],
          "name": "stdout"
        }
      ]
    }
  ]
}